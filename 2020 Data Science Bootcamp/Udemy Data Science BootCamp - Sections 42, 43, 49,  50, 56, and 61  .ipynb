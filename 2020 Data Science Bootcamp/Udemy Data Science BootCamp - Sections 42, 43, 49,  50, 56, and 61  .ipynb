{
 "cells": [
  {
   "cell_type": "markdown",
   "metadata": {},
   "source": [
    "### Section 42\n",
    "Think of a machine learning model as a black box that you feed input and gives back an output. Before we get comfortable and confident about the model's output, we must train our model. This is the only way for our model to make sense of the input model. The basic logic for training an algorithm involves four components\n",
    "- Data\n",
    "- Model\n",
    "- Objective Function\n",
    "- Optimization Algorithm\n",
    "\n",
    "First, we must prepare a certain amount of data to train with. Second, we need a model. The simplest model we can train is a linear model. The linear model is just the tip of the iceberg. Third, is the objective function. The objective function estimates how accurate the models output is on average. We want to minimize the objective function. The fourth part is the optimization algorithm, it optimizes the different parameters in order to minimize the objective function. These are not four steps but four ingredients, because this process completely iterative. \n",
    "\n",
    "The machine learning process is a kind of a trial and error training. After thousands of trials and errors, the machine will eventually learn how to produce the proper output as expected by the user. Think of a self driving car. Self driving cars don't follow rules like don't hit curbs. They watch hours of videos of people driving and train themselves to drive. It's not about the rules but rather about the output. \n",
    "\n",
    "There are three major types of machine learning:\n",
    "- supervised: we provide the model with inputs and corresponding required outputs\n",
    "- unsupervised: we feed inputs but there are no target outputs\n",
    "- reinforcement: we would train our model to act in an environment based on the reward it receives\n",
    "\n",
    "Supervised learning is the focus of this course. It can be divided into two subtypes, classification and regression. We will create both classification and regression algorithms"
   ]
  },
  {
   "cell_type": "markdown",
   "metadata": {},
   "source": [
    "Consider the variable x, we know that $f(x)$ is a linear function. The linear model is the basis for more complicated models. In the linear model universe, $f(x) = xw + b$ where $w$ is our weight and $b$ is our bias. The goal of the machine learning algorithm would be to find such values for w and b, so the output of $wx + b$ is as close to the observed values as possible. "
   ]
  },
  {
   "cell_type": "markdown",
   "metadata": {},
   "source": [
    "The linear model works with multiple inputs. Say for instance we are calculating real estate price, we could simply have size as a variable to calculate price, but we could also add a variable for proximity to the beach. In this scenario, our formula would look something like $y = x_1*w_1 + x_2*w_2 + b$. We can have multiple inputs in our linear models and this would improve our accuracy."
   ]
  },
  {
   "cell_type": "markdown",
   "metadata": {},
   "source": [
    "Say we wanted to not only predict price, but also how much rent we could charge. Our inputs would be unchanged but this time we have two outputs, so we can create two linear models. We have the same number of inputs, but we have k * m weights, where m is the ouputs and k is the inputs. Each model is determined solely by its weights and biases. In ML, we vary only the weights and the biases, but the logic of the model remains the same."
   ]
  },
  {
   "cell_type": "markdown",
   "metadata": {},
   "source": [
    "What is the objective function? The objective function is the mesure used to evaluate how well the model's outputs match the observed ouptputs. There are two types of objective functions, loss functions and reward functions. Usually, reward functions are used more in reinforcement learning. When dealing with supervised learning, you are most likely going to be using loss functions. "
   ]
  },
  {
   "cell_type": "markdown",
   "metadata": {},
   "source": [
    "The target is the desired value at which we are aiming, we want our output y to be as close to our target t. One common loss functions are the L2-norm in regression models. The lower the error between y and t, the the lower the loss. Norm comes from the fact it is the vector norm, or Euclidean distance of the outputs and the targets. Cross entropy is the common loss function for classification. It is defined as $L(y, t) = - \\sum t_i * \\ln{y}$. The lower the loss, the more accurate the model. There are also other loss functions. Any function that holds the basic property of higher for worse results, lower for better results can be a loss function."
   ]
  },
  {
   "cell_type": "markdown",
   "metadata": {},
   "source": [
    "The simplest optimization algorithm is the gradient descent. Imagine a function $f(x) = 5x^2 + 3x + 4$. Our goal is to find the minimum using the gradient descent methodology. First we find the first derivative $f'(x) = 10x + 3$. Then pick an arbitraty $x_0$ such as 4, then $x_{i + 1} = x_i - \\eta * f'(x_i)$. $x_1 = 4 - \\eta * [10*4 + 3] = 4 - \\eta * 43$. $\\eta$ is the learning rate. We choose the learning rate for each case. Using the update rule we can find $x_2, x_3,$ and so on. Generally, we want the learning rate to be: high enough so we can reach the closes minimum in a rational amount of time and low enough so we don't oscillate around the minimum. We can find the minimum by trial and error using gradient descent. Each trial is better than the previous one due to the update rule. We should stop updating once we've converged. "
   ]
  },
  {
   "cell_type": "markdown",
   "metadata": {},
   "source": [
    "Think back to the model: $wx + b = y$. A single observation $x_i*w + b = y_i$. We are interested in target $t_i$. Then we think of our loss function, $L(y, t) = \\frac{\\sum_i (y_i - t_i)^2}{2}$. To perform the gradient descent, our update rule is $x_{i + 1} = x_i - \\eta * f'(x_i)$ converted to $w_{i + 1} = w_i - \\eta * \\nabla_w * L(y,t)$ and $b_{i + 1} = b_i - \\eta * \\nabla_b * L(y,t)$. It is basically the same but for the matrices w and b. "
   ]
  },
  {
   "cell_type": "code",
   "execution_count": 19,
   "metadata": {},
   "outputs": [],
   "source": [
    "# The course did not have a python example of gradient descent in this course so I found my own dataset \n",
    "# and implemented the gradient descent code found here: https://engmrk.com/gradient-descent/?utm_campaign=News&utm_medium=Community&utm_source=DataCamp.com\n",
    "# on my own found dataset on Kaggle\n",
    "\n",
    "import numpy as np\n",
    "import matplotlib.pyplot as plt\n",
    "%matplotlib inline\n",
    "\n",
    "df = pd.read_csv('~/Desktop/Salary_Data.csv')"
   ]
  },
  {
   "cell_type": "code",
   "execution_count": 20,
   "metadata": {},
   "outputs": [
    {
     "data": {
      "text/html": [
       "<div>\n",
       "<style scoped>\n",
       "    .dataframe tbody tr th:only-of-type {\n",
       "        vertical-align: middle;\n",
       "    }\n",
       "\n",
       "    .dataframe tbody tr th {\n",
       "        vertical-align: top;\n",
       "    }\n",
       "\n",
       "    .dataframe thead th {\n",
       "        text-align: right;\n",
       "    }\n",
       "</style>\n",
       "<table border=\"1\" class=\"dataframe\">\n",
       "  <thead>\n",
       "    <tr style=\"text-align: right;\">\n",
       "      <th></th>\n",
       "      <th>YearsExperience</th>\n",
       "      <th>Salary</th>\n",
       "    </tr>\n",
       "  </thead>\n",
       "  <tbody>\n",
       "    <tr>\n",
       "      <th>0</th>\n",
       "      <td>1.1</td>\n",
       "      <td>39343.0</td>\n",
       "    </tr>\n",
       "    <tr>\n",
       "      <th>1</th>\n",
       "      <td>1.3</td>\n",
       "      <td>46205.0</td>\n",
       "    </tr>\n",
       "    <tr>\n",
       "      <th>2</th>\n",
       "      <td>1.5</td>\n",
       "      <td>37731.0</td>\n",
       "    </tr>\n",
       "    <tr>\n",
       "      <th>3</th>\n",
       "      <td>2.0</td>\n",
       "      <td>43525.0</td>\n",
       "    </tr>\n",
       "    <tr>\n",
       "      <th>4</th>\n",
       "      <td>2.2</td>\n",
       "      <td>39891.0</td>\n",
       "    </tr>\n",
       "  </tbody>\n",
       "</table>\n",
       "</div>"
      ],
      "text/plain": [
       "   YearsExperience   Salary\n",
       "0              1.1  39343.0\n",
       "1              1.3  46205.0\n",
       "2              1.5  37731.0\n",
       "3              2.0  43525.0\n",
       "4              2.2  39891.0"
      ]
     },
     "execution_count": 20,
     "metadata": {},
     "output_type": "execute_result"
    }
   ],
   "source": [
    "df.head()"
   ]
  },
  {
   "cell_type": "code",
   "execution_count": 21,
   "metadata": {},
   "outputs": [
    {
     "name": "stdout",
     "output_type": "stream",
     "text": [
      "Cost at 10 iteration =  1.0259787380427098e+28\n",
      "Cost at 20 iteration =  1.1146726468958901e+48\n",
      "Cost at 30 iteration =  1.2110339753319226e+68\n",
      "Cost at 40 iteration =  1.3157255571780599e+88\n",
      "Cost at 50 iteration =  1.429467526984158e+108\n",
      "Cost at 60 iteration =  1.553042273561059e+128\n",
      "Cost at 70 iteration =  1.6872998217429468e+148\n",
      "Cost at 80 iteration =  1.833163679392823e+168\n",
      "Cost at 90 iteration =  1.991637189870444e+188\n",
      "W =  1.9583023419349652e+103 & b =  2.906038689577634e+102\n"
     ]
    },
    {
     "data": {
      "image/png": "[encoded data removed]",
      "text/plain": [
       "<Figure size 432x288 with 1 Axes>"
      ]
     },
     "metadata": {
      "needs_background": "light"
     },
     "output_type": "display_data"
    }
   ],
   "source": [
    "X = df['YearsExperience']\n",
    "Y = df['Salary']\n",
    "\n",
    "costs = []\n",
    "#Step 1: Parameter initialization \n",
    "W = 0.45\n",
    "b = 0.75\n",
    "\n",
    "for i in range(1, 100):\n",
    "    \n",
    "#Step 2: Step 2: Calculate Cost\n",
    "    Y_pred = np.multiply(W, X) + b\n",
    "    Loss_error = 0.5 * (Y_pred - Y)**2\n",
    "    cost = np.sum(Loss_error)/10\n",
    "    \n",
    "#Step 3: Calculate dW and db    \n",
    "    db = np.sum((Y_pred - Y))\n",
    "    dw = np.dot((Y_pred - Y), X)\n",
    "    costs.append(cost)\n",
    "\n",
    "#Step 4: Update parameters:\n",
    "    W = W - 0.01*dw\n",
    "    b = b - 0.01*db\n",
    "    \n",
    "    if i%10 == 0:\n",
    "        print(\"Cost at\", i,\"iteration = \", cost)\n",
    "\n",
    "#Step 5: Repeat from Step, implemented as a for loop with 1000 iterations\n",
    "\n",
    "#Plot the cost against no. of iterations\n",
    "print(\"W = \", W,\"& b = \",  b)\n",
    "plt.plot(costs)\n",
    "plt.ylabel('cost')\n",
    "plt.xlabel('iterations (per tens)')\n",
    "plt.show()"
   ]
  },
  {
   "cell_type": "markdown",
   "metadata": {},
   "source": [
    "### Section 43 \n",
    "Simple linear regression - minimal example"
   ]
  },
  {
   "cell_type": "code",
   "execution_count": 22,
   "metadata": {},
   "outputs": [],
   "source": [
    "# Import relevant libraries\n",
    "import numpy as np\n",
    "import matplotlib.pyplot as plt\n",
    "from mpl_toolkits.mplot3d import Axes3D"
   ]
  },
  {
   "cell_type": "code",
   "execution_count": 23,
   "metadata": {},
   "outputs": [
    {
     "name": "stdout",
     "output_type": "stream",
     "text": [
      "(1000, 2)\n"
     ]
    }
   ],
   "source": [
    "# Generate random data\n",
    "observations = 1000\n",
    "\n",
    "# Two variables of our linear model\n",
    "xs = np.random.uniform(low = -10, high = 10, size = (observations, 1))\n",
    "zs = np.random.uniform(-10, 10, (observations, 1))\n",
    "\n",
    "inputs = np.column_stack((xs,zs))\n",
    "\n",
    "print(inputs.shape)"
   ]
  },
  {
   "cell_type": "code",
   "execution_count": 24,
   "metadata": {},
   "outputs": [
    {
     "name": "stdout",
     "output_type": "stream",
     "text": [
      "(1000, 1)\n"
     ]
    }
   ],
   "source": [
    "# Create the targets we will aim at\n",
    "# Our targets should be equal to 2x - 3z + 5 + noise\n",
    "\n",
    "noise = np.random.uniform(-1, 1, (observations, 1))\n",
    "\n",
    "targets = 2*xs - 3*zs + 5 + noise\n",
    "\n",
    "print(targets.shape)"
   ]
  },
  {
   "cell_type": "code",
   "execution_count": 25,
   "metadata": {},
   "outputs": [
    {
     "data": {
      "image/png": "[encoded data removed]",
      "text/plain": [
       "<Figure size 432x288 with 1 Axes>"
      ]
     },
     "metadata": {
      "needs_background": "light"
     },
     "output_type": "display_data"
    }
   ],
   "source": [
    "# Plot the training data\n",
    "targets = targets.reshape(observations,)\n",
    "fig = plt.figure()\n",
    "ax = fig.add_subplot(111, projection='3d')\n",
    "\n",
    "# Choose the axes.\n",
    "ax.plot(xs, zs, targets)\n",
    "\n",
    "# Set labels\n",
    "ax.set_xlabel('xs')\n",
    "ax.set_ylabel('zs')\n",
    "ax.set_zlabel('Targets')\n",
    "\n",
    "\n",
    "ax.view_init(azim=100)\n",
    "\n",
    "plt.show()\n",
    "targets = targets.reshape(observations,1)"
   ]
  },
  {
   "cell_type": "code",
   "execution_count": 26,
   "metadata": {},
   "outputs": [
    {
     "name": "stdout",
     "output_type": "stream",
     "text": [
      "[[-0.03544033]\n",
      " [-0.02938404]]\n",
      "[-0.00682997]\n"
     ]
    }
   ],
   "source": [
    "# Initialize variables\n",
    "init_range = 0.1\n",
    "\n",
    "weights = np.random.uniform(-init_range, init_range, size = (2,1))\n",
    "\n",
    "biases = np.random.uniform(-init_range, init_range, size = 1)\n",
    "\n",
    "print(weights)\n",
    "print(biases)"
   ]
  },
  {
   "cell_type": "code",
   "execution_count": 27,
   "metadata": {},
   "outputs": [],
   "source": [
    "# Set a learning rate\n",
    "learning_rate = 0.02"
   ]
  },
  {
   "cell_type": "code",
   "execution_count": 28,
   "metadata": {
    "scrolled": true
   },
   "outputs": [
    {
     "name": "stdout",
     "output_type": "stream",
     "text": [
      "240.39527608107986\n",
      "35.27787908204492\n",
      "13.989345554451653\n",
      "11.371625195078858\n",
      "10.707716766695714\n",
      "10.267622027809695\n",
      "9.866715234323756\n",
      "9.484114552682362\n",
      "9.116889225325979\n",
      "8.76417071650047\n",
      "8.425354954522223\n",
      "8.099889983078036\n",
      "7.787249201497752\n",
      "7.486927231997589\n",
      "7.198438673566559\n",
      "6.921317259880902\n",
      "6.655115097843349\n",
      "6.399401942593622\n",
      "6.153764501979791\n",
      "5.9178057685602\n",
      "5.691144377943763\n",
      "5.473413992415615\n",
      "5.264262708849818\n",
      "5.063352489951752\n",
      "4.870358617910942\n",
      "4.68496916958128\n",
      "4.506884512340404\n",
      "4.335816819813452\n",
      "4.171489606678446\n",
      "4.0136372818014765\n",
      "3.8620047189794415\n",
      "3.7163468445965373\n",
      "3.576428241528104\n",
      "3.4420227686515936\n",
      "3.3129131953497253\n",
      "3.188890850415115\n",
      "3.069755284788881\n",
      "2.955313947588187\n",
      "2.8453818748990636\n",
      "2.7397813908315505\n",
      "2.6383418203539857\n",
      "2.540899213442315\n",
      "2.447296080098585\n",
      "2.3573811358103405\n",
      "2.271009057039542\n",
      "2.188040246345808\n",
      "2.1083406067643655\n",
      "2.0317813250740517\n",
      "1.9582386636050833\n",
      "1.8875937602500992\n",
      "1.8197324363552465\n",
      "1.754545012180831\n",
      "1.6919261296332462\n",
      "1.6317745819817142\n",
      "1.5739931502845719\n",
      "1.5184884462607753\n",
      "1.4651707613526423\n",
      "1.41395392173587\n",
      "1.3647551490425354\n",
      "1.3174949265719227\n",
      "1.2720968707729716\n",
      "1.228487607790637\n",
      "1.186596654876604\n",
      "1.1463563064727227\n",
      "1.1077015247830155\n",
      "1.0705698346574162\n",
      "1.0349012226173557\n",
      "1.000638039859961\n",
      "0.9677249090841373\n",
      "0.9361086349879211\n",
      "0.9057381182924605\n",
      "0.8765642731536498\n",
      "0.8485399478279442\n",
      "0.821619848464142\n",
      "0.795760465897943\n",
      "0.7709200053309917\n",
      "0.7470583187807146\n",
      "0.7241368401918202\n",
      "0.7021185231045465\n",
      "0.6809677807789343\n",
      "0.6606504286783506\n",
      "0.6411336292192977\n",
      "0.6223858386982094\n",
      "0.6043767563094723\n",
      "0.5870772751722391\n",
      "0.5704594352869238\n",
      "0.5544963783453145\n",
      "0.5391623043212738\n",
      "0.5244324297718781\n",
      "0.5102829477815889\n",
      "0.49669098948471946\n",
      "0.4836345871040071\n",
      "0.4710926384455619\n",
      "0.45904487279279327\n",
      "0.44747181814420095\n",
      "0.4363547697420735\n",
      "0.4256757598412363\n",
      "0.41541752866898196\n",
      "0.4055634965292444\n",
      "0.3960977370059453\n"
     ]
    }
   ],
   "source": [
    "# Train the model\n",
    "for i in range (100):\n",
    "    outputs = np.dot(inputs, weights) + biases\n",
    "    deltas = outputs - targets\n",
    "    \n",
    "    # Follow the L2-norm loss formula divided by 2\n",
    "    # Division by a constant doesn't change the logic of the loss, as it is still lower for higher\n",
    "    # accuracy\n",
    "    loss = np.sum(deltas ** 2) / 2 / observations\n",
    "    \n",
    "    # Want to see the loss decrease after each iteration\n",
    "    print(loss)\n",
    "    \n",
    "    # Update the weights and the biases following the gradient descent logic\n",
    "    deltas_scaled = deltas / observations\n",
    "    weights = weights - learning_rate *np.dot(inputs.T, deltas_scaled)\n",
    "    biases = biases - learning_rate * np.sum(deltas_scaled)"
   ]
  },
  {
   "cell_type": "code",
   "execution_count": 29,
   "metadata": {},
   "outputs": [
    {
     "name": "stdout",
     "output_type": "stream",
     "text": [
      "[[ 2.00957927]\n",
      " [-3.0005469 ]] [4.35180855]\n"
     ]
    }
   ],
   "source": [
    "# Print the weights and the biases\n",
    "print(weights, biases)"
   ]
  },
  {
   "cell_type": "code",
   "execution_count": 30,
   "metadata": {},
   "outputs": [
    {
     "data": {
      "image/png": "[encoded data removed]",
      "text/plain": [
       "<Figure size 432x288 with 1 Axes>"
      ]
     },
     "metadata": {
      "needs_background": "light"
     },
     "output_type": "display_data"
    }
   ],
   "source": [
    "# Plot last outputs vs targets\n",
    "plt.plot(outputs, targets)\n",
    "plt.xlabel('outputs')\n",
    "plt.ylabel('targets')\n",
    "plt.show()"
   ]
  },
  {
   "cell_type": "markdown",
   "metadata": {},
   "source": [
    "#### Using the Salary dataset I found on my own:"
   ]
  },
  {
   "cell_type": "code",
   "execution_count": null,
   "metadata": {},
   "outputs": [],
   "source": []
  },
  {
   "cell_type": "code",
   "execution_count": null,
   "metadata": {},
   "outputs": [],
   "source": []
  },
  {
   "cell_type": "markdown",
   "metadata": {},
   "source": [
    "### Section 49\n",
    "Preprocessing refers to any manipulation of the dataset before running it through the model. This section will focus on data transformation. \n",
    "\n",
    "Motivation:\n",
    "- Compatablility with the libraries you are using\n",
    "- Orders of magnitude, bigger values will affect the model more\n",
    "- Generalization: using the same model for different issues\n",
    "\n",
    "Often we are not interested in an absolute value, but a relative value. For instance if you go to Apple stock price, you will see numbers in red and green which are relative metrics, as they are relative change of the stock price. The most common problem when working with numerical data is the difference in magnitudes of the data. We can fix this by using standardization, or feature scaling. Standardization is the process of transoforming data into a standard scale. A very common way to approach this process is to subtract the mean and divide by the standard deviation. Feature scaling allows our linear combinations treats all variables equally. Plus, we can make much more sense of the data. PCA is another preprocessing method which is a dimension reduction technique. Whitening is another technique that is performed after PCA which removes underlying correlations between datapoints. We cannot get to PCA and Whitening in this video.\n",
    "\n",
    "When dealing with categorical data, you must be able to convert your categorical data into numbers. Imagine your shop has three products bread, yogurt, and muffins. You can just enumerate like (1, 2, 3), but this implies that there is some order to them. This is typically an issue. So instead, you must either use one hot encoding or binary encoding. \n",
    "\n",
    "Binary Encoding starts with bread -1 , yogurt - 2, and muffin - 3. Convert these numbers into binary: bread - 01, yogurt - 10, muffin - 11, Now, you can create a table of two variables where variable one contains the first number, so for instance in bread, '0', and then the second  variable  contains the second number so for instanc in bread , 1. However, if you did it this way, it would imply yogurt and bread are opposites and that's not necessarily true, so even binary encoding can prove to be troublesome.\n",
    "\n",
    "In one hot encoding, you create a variable for each type of category such as a variable for bread, yogurt, and muffin each. Then, bread would be encoded as bread = 1, yogurt - 0, and muffin = 0. However, one hot encoding has one big problem, if you have 12,000 categories you wouldn't want to make 12,000 variables. Therefore you can just "
   ]
  },
  {
   "cell_type": "code",
   "execution_count": 5,
   "metadata": {},
   "outputs": [],
   "source": [
    "# For my own practice, I'll be using clickstream data from an online store \n",
    "import pandas as pd\n",
    "\n",
    "df = pd.read_csv('~/Desktop/e-shop data and description/e-shop clothing 2008.csv', delimiter=\";\")"
   ]
  },
  {
   "cell_type": "code",
   "execution_count": 6,
   "metadata": {},
   "outputs": [
    {
     "data": {
      "text/html": [
       "<div>\n",
       "<style scoped>\n",
       "    .dataframe tbody tr th:only-of-type {\n",
       "        vertical-align: middle;\n",
       "    }\n",
       "\n",
       "    .dataframe tbody tr th {\n",
       "        vertical-align: top;\n",
       "    }\n",
       "\n",
       "    .dataframe thead th {\n",
       "        text-align: right;\n",
       "    }\n",
       "</style>\n",
       "<table border=\"1\" class=\"dataframe\">\n",
       "  <thead>\n",
       "    <tr style=\"text-align: right;\">\n",
       "      <th></th>\n",
       "      <th>year</th>\n",
       "      <th>month</th>\n",
       "      <th>day</th>\n",
       "      <th>order</th>\n",
       "      <th>country</th>\n",
       "      <th>session ID</th>\n",
       "      <th>page 1 (main category)</th>\n",
       "      <th>page 2 (clothing model)</th>\n",
       "      <th>colour</th>\n",
       "      <th>location</th>\n",
       "      <th>model photography</th>\n",
       "      <th>price</th>\n",
       "      <th>price 2</th>\n",
       "      <th>page</th>\n",
       "    </tr>\n",
       "  </thead>\n",
       "  <tbody>\n",
       "    <tr>\n",
       "      <th>0</th>\n",
       "      <td>2008</td>\n",
       "      <td>4</td>\n",
       "      <td>1</td>\n",
       "      <td>1</td>\n",
       "      <td>29</td>\n",
       "      <td>1</td>\n",
       "      <td>1</td>\n",
       "      <td>A13</td>\n",
       "      <td>1</td>\n",
       "      <td>5</td>\n",
       "      <td>1</td>\n",
       "      <td>28</td>\n",
       "      <td>2</td>\n",
       "      <td>1</td>\n",
       "    </tr>\n",
       "    <tr>\n",
       "      <th>1</th>\n",
       "      <td>2008</td>\n",
       "      <td>4</td>\n",
       "      <td>1</td>\n",
       "      <td>2</td>\n",
       "      <td>29</td>\n",
       "      <td>1</td>\n",
       "      <td>1</td>\n",
       "      <td>A16</td>\n",
       "      <td>1</td>\n",
       "      <td>6</td>\n",
       "      <td>1</td>\n",
       "      <td>33</td>\n",
       "      <td>2</td>\n",
       "      <td>1</td>\n",
       "    </tr>\n",
       "    <tr>\n",
       "      <th>2</th>\n",
       "      <td>2008</td>\n",
       "      <td>4</td>\n",
       "      <td>1</td>\n",
       "      <td>3</td>\n",
       "      <td>29</td>\n",
       "      <td>1</td>\n",
       "      <td>2</td>\n",
       "      <td>B4</td>\n",
       "      <td>10</td>\n",
       "      <td>2</td>\n",
       "      <td>1</td>\n",
       "      <td>52</td>\n",
       "      <td>1</td>\n",
       "      <td>1</td>\n",
       "    </tr>\n",
       "    <tr>\n",
       "      <th>3</th>\n",
       "      <td>2008</td>\n",
       "      <td>4</td>\n",
       "      <td>1</td>\n",
       "      <td>4</td>\n",
       "      <td>29</td>\n",
       "      <td>1</td>\n",
       "      <td>2</td>\n",
       "      <td>B17</td>\n",
       "      <td>6</td>\n",
       "      <td>6</td>\n",
       "      <td>2</td>\n",
       "      <td>38</td>\n",
       "      <td>2</td>\n",
       "      <td>1</td>\n",
       "    </tr>\n",
       "    <tr>\n",
       "      <th>4</th>\n",
       "      <td>2008</td>\n",
       "      <td>4</td>\n",
       "      <td>1</td>\n",
       "      <td>5</td>\n",
       "      <td>29</td>\n",
       "      <td>1</td>\n",
       "      <td>2</td>\n",
       "      <td>B8</td>\n",
       "      <td>4</td>\n",
       "      <td>3</td>\n",
       "      <td>2</td>\n",
       "      <td>52</td>\n",
       "      <td>1</td>\n",
       "      <td>1</td>\n",
       "    </tr>\n",
       "  </tbody>\n",
       "</table>\n",
       "</div>"
      ],
      "text/plain": [
       "   year  month  day  order  country  session ID  page 1 (main category)  \\\n",
       "0  2008      4    1      1       29           1                       1   \n",
       "1  2008      4    1      2       29           1                       1   \n",
       "2  2008      4    1      3       29           1                       2   \n",
       "3  2008      4    1      4       29           1                       2   \n",
       "4  2008      4    1      5       29           1                       2   \n",
       "\n",
       "  page 2 (clothing model)  colour  location  model photography  price  \\\n",
       "0                     A13       1         5                  1     28   \n",
       "1                     A16       1         6                  1     33   \n",
       "2                      B4      10         2                  1     52   \n",
       "3                     B17       6         6                  2     38   \n",
       "4                      B8       4         3                  2     52   \n",
       "\n",
       "   price 2  page  \n",
       "0        2     1  \n",
       "1        2     1  \n",
       "2        1     1  \n",
       "3        2     1  \n",
       "4        1     1  "
      ]
     },
     "execution_count": 6,
     "metadata": {},
     "output_type": "execute_result"
    }
   ],
   "source": [
    "df.head()"
   ]
  },
  {
   "cell_type": "code",
   "execution_count": 8,
   "metadata": {},
   "outputs": [
    {
     "data": {
      "text/html": [
       "<div>\n",
       "<style scoped>\n",
       "    .dataframe tbody tr th:only-of-type {\n",
       "        vertical-align: middle;\n",
       "    }\n",
       "\n",
       "    .dataframe tbody tr th {\n",
       "        vertical-align: top;\n",
       "    }\n",
       "\n",
       "    .dataframe thead th {\n",
       "        text-align: right;\n",
       "    }\n",
       "</style>\n",
       "<table border=\"1\" class=\"dataframe\">\n",
       "  <thead>\n",
       "    <tr style=\"text-align: right;\">\n",
       "      <th></th>\n",
       "      <th>year</th>\n",
       "      <th>month</th>\n",
       "      <th>day</th>\n",
       "      <th>order</th>\n",
       "      <th>country</th>\n",
       "      <th>session ID</th>\n",
       "      <th>page 1 (main category)</th>\n",
       "      <th>colour</th>\n",
       "      <th>location</th>\n",
       "      <th>model photography</th>\n",
       "      <th>...</th>\n",
       "      <th>page 2 (clothing model)_P75</th>\n",
       "      <th>page 2 (clothing model)_P76</th>\n",
       "      <th>page 2 (clothing model)_P77</th>\n",
       "      <th>page 2 (clothing model)_P78</th>\n",
       "      <th>page 2 (clothing model)_P79</th>\n",
       "      <th>page 2 (clothing model)_P8</th>\n",
       "      <th>page 2 (clothing model)_P80</th>\n",
       "      <th>page 2 (clothing model)_P81</th>\n",
       "      <th>page 2 (clothing model)_P82</th>\n",
       "      <th>page 2 (clothing model)_P9</th>\n",
       "    </tr>\n",
       "  </thead>\n",
       "  <tbody>\n",
       "    <tr>\n",
       "      <th>0</th>\n",
       "      <td>2008</td>\n",
       "      <td>4</td>\n",
       "      <td>1</td>\n",
       "      <td>1</td>\n",
       "      <td>29</td>\n",
       "      <td>1</td>\n",
       "      <td>1</td>\n",
       "      <td>1</td>\n",
       "      <td>5</td>\n",
       "      <td>1</td>\n",
       "      <td>...</td>\n",
       "      <td>0</td>\n",
       "      <td>0</td>\n",
       "      <td>0</td>\n",
       "      <td>0</td>\n",
       "      <td>0</td>\n",
       "      <td>0</td>\n",
       "      <td>0</td>\n",
       "      <td>0</td>\n",
       "      <td>0</td>\n",
       "      <td>0</td>\n",
       "    </tr>\n",
       "    <tr>\n",
       "      <th>1</th>\n",
       "      <td>2008</td>\n",
       "      <td>4</td>\n",
       "      <td>1</td>\n",
       "      <td>2</td>\n",
       "      <td>29</td>\n",
       "      <td>1</td>\n",
       "      <td>1</td>\n",
       "      <td>1</td>\n",
       "      <td>6</td>\n",
       "      <td>1</td>\n",
       "      <td>...</td>\n",
       "      <td>0</td>\n",
       "      <td>0</td>\n",
       "      <td>0</td>\n",
       "      <td>0</td>\n",
       "      <td>0</td>\n",
       "      <td>0</td>\n",
       "      <td>0</td>\n",
       "      <td>0</td>\n",
       "      <td>0</td>\n",
       "      <td>0</td>\n",
       "    </tr>\n",
       "    <tr>\n",
       "      <th>2</th>\n",
       "      <td>2008</td>\n",
       "      <td>4</td>\n",
       "      <td>1</td>\n",
       "      <td>3</td>\n",
       "      <td>29</td>\n",
       "      <td>1</td>\n",
       "      <td>2</td>\n",
       "      <td>10</td>\n",
       "      <td>2</td>\n",
       "      <td>1</td>\n",
       "      <td>...</td>\n",
       "      <td>0</td>\n",
       "      <td>0</td>\n",
       "      <td>0</td>\n",
       "      <td>0</td>\n",
       "      <td>0</td>\n",
       "      <td>0</td>\n",
       "      <td>0</td>\n",
       "      <td>0</td>\n",
       "      <td>0</td>\n",
       "      <td>0</td>\n",
       "    </tr>\n",
       "    <tr>\n",
       "      <th>3</th>\n",
       "      <td>2008</td>\n",
       "      <td>4</td>\n",
       "      <td>1</td>\n",
       "      <td>4</td>\n",
       "      <td>29</td>\n",
       "      <td>1</td>\n",
       "      <td>2</td>\n",
       "      <td>6</td>\n",
       "      <td>6</td>\n",
       "      <td>2</td>\n",
       "      <td>...</td>\n",
       "      <td>0</td>\n",
       "      <td>0</td>\n",
       "      <td>0</td>\n",
       "      <td>0</td>\n",
       "      <td>0</td>\n",
       "      <td>0</td>\n",
       "      <td>0</td>\n",
       "      <td>0</td>\n",
       "      <td>0</td>\n",
       "      <td>0</td>\n",
       "    </tr>\n",
       "    <tr>\n",
       "      <th>4</th>\n",
       "      <td>2008</td>\n",
       "      <td>4</td>\n",
       "      <td>1</td>\n",
       "      <td>5</td>\n",
       "      <td>29</td>\n",
       "      <td>1</td>\n",
       "      <td>2</td>\n",
       "      <td>4</td>\n",
       "      <td>3</td>\n",
       "      <td>2</td>\n",
       "      <td>...</td>\n",
       "      <td>0</td>\n",
       "      <td>0</td>\n",
       "      <td>0</td>\n",
       "      <td>0</td>\n",
       "      <td>0</td>\n",
       "      <td>0</td>\n",
       "      <td>0</td>\n",
       "      <td>0</td>\n",
       "      <td>0</td>\n",
       "      <td>0</td>\n",
       "    </tr>\n",
       "  </tbody>\n",
       "</table>\n",
       "<p>5 rows × 230 columns</p>\n",
       "</div>"
      ],
      "text/plain": [
       "   year  month  day  order  country  session ID  page 1 (main category)  \\\n",
       "0  2008      4    1      1       29           1                       1   \n",
       "1  2008      4    1      2       29           1                       1   \n",
       "2  2008      4    1      3       29           1                       2   \n",
       "3  2008      4    1      4       29           1                       2   \n",
       "4  2008      4    1      5       29           1                       2   \n",
       "\n",
       "   colour  location  model photography  ...  page 2 (clothing model)_P75  \\\n",
       "0       1         5                  1  ...                            0   \n",
       "1       1         6                  1  ...                            0   \n",
       "2      10         2                  1  ...                            0   \n",
       "3       6         6                  2  ...                            0   \n",
       "4       4         3                  2  ...                            0   \n",
       "\n",
       "   page 2 (clothing model)_P76  page 2 (clothing model)_P77  \\\n",
       "0                            0                            0   \n",
       "1                            0                            0   \n",
       "2                            0                            0   \n",
       "3                            0                            0   \n",
       "4                            0                            0   \n",
       "\n",
       "   page 2 (clothing model)_P78  page 2 (clothing model)_P79  \\\n",
       "0                            0                            0   \n",
       "1                            0                            0   \n",
       "2                            0                            0   \n",
       "3                            0                            0   \n",
       "4                            0                            0   \n",
       "\n",
       "   page 2 (clothing model)_P8  page 2 (clothing model)_P80  \\\n",
       "0                           0                            0   \n",
       "1                           0                            0   \n",
       "2                           0                            0   \n",
       "3                           0                            0   \n",
       "4                           0                            0   \n",
       "\n",
       "   page 2 (clothing model)_P81  page 2 (clothing model)_P82  \\\n",
       "0                            0                            0   \n",
       "1                            0                            0   \n",
       "2                            0                            0   \n",
       "3                            0                            0   \n",
       "4                            0                            0   \n",
       "\n",
       "   page 2 (clothing model)_P9  \n",
       "0                           0  \n",
       "1                           0  \n",
       "2                           0  \n",
       "3                           0  \n",
       "4                           0  \n",
       "\n",
       "[5 rows x 230 columns]"
      ]
     },
     "execution_count": 8,
     "metadata": {},
     "output_type": "execute_result"
    }
   ],
   "source": [
    "# One hot encoding - to convert categorical data to continuous\n",
    "df['page 2 (clothing model)'] = df['page 2 (clothing model)'].astype(str)\n",
    "df = pd.get_dummies(df)\n",
    "df.head(5)"
   ]
  },
  {
   "cell_type": "code",
   "execution_count": 11,
   "metadata": {},
   "outputs": [
    {
     "data": {
      "text/plain": [
       "0        -1.259355\n",
       "1        -0.860888\n",
       "2         0.653286\n",
       "3        -0.462421\n",
       "4         0.653286\n",
       "            ...   \n",
       "165469    1.848687\n",
       "165470    1.450220\n",
       "165471   -0.063954\n",
       "165472   -0.063954\n",
       "165473    1.051753\n",
       "Name: price, Length: 165474, dtype: float64"
      ]
     },
     "execution_count": 11,
     "metadata": {},
     "output_type": "execute_result"
    }
   ],
   "source": [
    "# Standardizing the price \n",
    "from sklearn.preprocessing import StandardScaler\n",
    "continuous_variables = ['price', 'price 2']\n",
    "scaler = StandardScaler()\n",
    "df[continuous_variables]=scaler.fit_transform(df[continuous_variables])\n",
    "df['price']"
   ]
  },
  {
   "cell_type": "code",
   "execution_count": 12,
   "metadata": {},
   "outputs": [
    {
     "data": {
      "text/plain": [
       "0         1.023952\n",
       "1         1.023952\n",
       "2        -0.976608\n",
       "3         1.023952\n",
       "4        -0.976608\n",
       "            ...   \n",
       "165469   -0.976608\n",
       "165470   -0.976608\n",
       "165471    1.023952\n",
       "165472   -0.976608\n",
       "165473   -0.976608\n",
       "Name: price 2, Length: 165474, dtype: float64"
      ]
     },
     "execution_count": 12,
     "metadata": {},
     "output_type": "execute_result"
    }
   ],
   "source": [
    "df['price 2']"
   ]
  },
  {
   "cell_type": "code",
   "execution_count": null,
   "metadata": {},
   "outputs": [],
   "source": []
  }
 ],
 "metadata": {
  "kernelspec": {
   "display_name": "Python 3",
   "language": "python",
   "name": "python3"
  },
  "language_info": {
   "codemirror_mode": {
    "name": "ipython",
    "version": 3
   },
   "file_extension": ".py",
   "mimetype": "text/x-python",
   "name": "python",
   "nbconvert_exporter": "python",
   "pygments_lexer": "ipython3",
   "version": "3.8.3"
  }
 },
 "nbformat": 4,
 "nbformat_minor": 2
}
