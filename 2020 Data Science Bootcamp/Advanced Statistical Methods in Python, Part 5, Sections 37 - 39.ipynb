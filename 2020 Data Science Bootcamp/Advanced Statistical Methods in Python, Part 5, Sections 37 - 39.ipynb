{
 "cells": [
  {
   "cell_type": "markdown",
   "metadata": {},
   "source": [
    "# Advanced Statistical Methods in Python \n",
    "## Part 5\n",
    "### Section 37"
   ]
  },
  {
   "cell_type": "markdown",
   "metadata": {},
   "source": [
    "Cluster analysis is a multivariate statistical technique that groups observations on the basis some of their features or variables they are described by. Observations in a dataset can be divided intro groups. Here's a list of six countries: USA, Canada, Australia, Germany, France, UK, and Australia. Imagine we performed cluster analysis, and we get 3 clusters for countries in North America, Europe, and Australia. These clusters were clustered by geographic proximity. \n",
    "\n",
    "Say we get two clusters, one with Canada, US, Germany, UK, and France and the second is just Australia. These two would be northern and southern hemisphere. However, clusters aren't always as easy. Cluster analysis can be extremely intuitive but sometimes tricky. The goal of clustering is to maximize the similarity of observations within a cluster and maximize the dissimilarity between clusters. That of course is done to respect with some feature or features. "
   ]
  },
  {
   "cell_type": "markdown",
   "metadata": {},
   "source": [
    "Why is it useful? There are many applications of clustering: marketing segmentation and image segementation. Market Segmentation is used to identify to target customers. Clustering is often used as a preliminary step in other types of analysis. Cluster analysis allows us to explore the data and identify patterns. Image segmentation uses clusters of colors, and for some images you would need 16M clusters to get to the final image. Clustering has made way for better techniques to allow machines to detect the objects around them. "
   ]
  },
  {
   "cell_type": "markdown",
   "metadata": {},
   "source": [
    "Clustering seems similar to classification, but is in fact very different. We don't have labels, which is unsupervised learning. The output we get is something we must name ourselves.Classification is about predicting an output category given input data. Clustering is about grouping data points togetehr based on similarities among them and difference from others. "
   ]
  },
  {
   "cell_type": "markdown",
   "metadata": {},
   "source": [
    "Math prerequisites: distance between two data points and centroids. Distance can be calculated as a Euclidean distance, where Pythagoreas theorem is used to find the distance between two points. In n-dimensional space, we can calculate distance between points by using the Euclidean distance formula. A centroid is the mean position of a group of points. "
   ]
  },
  {
   "cell_type": "markdown",
   "metadata": {},
   "source": [
    "### Section 38\n",
    "How do we perform clustering in practice? The most populat is K-Means. First, we must choose the number of clusters we'd like to have. K stands for the number of clusters we are trying to identify. then specify the cluster seeds, a seed is basically a starting centroid. It is chosen at random. The following step is to assign each point to a centroid. In this way, we can colour all points on the graph based on their Euclidean distance from the seeds. The final step is to adjust the centroid. Then we repeat the last two steps, until we can no longer reassign points and the clustering ends. K-means is an iterative process."
   ]
  },
  {
   "cell_type": "markdown",
   "metadata": {},
   "source": [
    "For this next section, I have found my own data source of this Mall Customer data with 5 columns:"
   ]
  },
  {
   "cell_type": "code",
   "execution_count": 1,
   "metadata": {},
   "outputs": [
    {
     "data": {
      "text/html": [
       "<div>\n",
       "<style scoped>\n",
       "    .dataframe tbody tr th:only-of-type {\n",
       "        vertical-align: middle;\n",
       "    }\n",
       "\n",
       "    .dataframe tbody tr th {\n",
       "        vertical-align: top;\n",
       "    }\n",
       "\n",
       "    .dataframe thead th {\n",
       "        text-align: right;\n",
       "    }\n",
       "</style>\n",
       "<table border=\"1\" class=\"dataframe\">\n",
       "  <thead>\n",
       "    <tr style=\"text-align: right;\">\n",
       "      <th></th>\n",
       "      <th>CustomerID</th>\n",
       "      <th>Genre</th>\n",
       "      <th>Age</th>\n",
       "      <th>Annual_Income_(k$)</th>\n",
       "      <th>Spending_Score</th>\n",
       "    </tr>\n",
       "  </thead>\n",
       "  <tbody>\n",
       "    <tr>\n",
       "      <th>0</th>\n",
       "      <td>1</td>\n",
       "      <td>Male</td>\n",
       "      <td>19</td>\n",
       "      <td>15</td>\n",
       "      <td>39</td>\n",
       "    </tr>\n",
       "    <tr>\n",
       "      <th>1</th>\n",
       "      <td>2</td>\n",
       "      <td>Male</td>\n",
       "      <td>21</td>\n",
       "      <td>15</td>\n",
       "      <td>81</td>\n",
       "    </tr>\n",
       "    <tr>\n",
       "      <th>2</th>\n",
       "      <td>3</td>\n",
       "      <td>Female</td>\n",
       "      <td>20</td>\n",
       "      <td>16</td>\n",
       "      <td>6</td>\n",
       "    </tr>\n",
       "    <tr>\n",
       "      <th>3</th>\n",
       "      <td>4</td>\n",
       "      <td>Female</td>\n",
       "      <td>23</td>\n",
       "      <td>16</td>\n",
       "      <td>77</td>\n",
       "    </tr>\n",
       "    <tr>\n",
       "      <th>4</th>\n",
       "      <td>5</td>\n",
       "      <td>Female</td>\n",
       "      <td>31</td>\n",
       "      <td>17</td>\n",
       "      <td>40</td>\n",
       "    </tr>\n",
       "  </tbody>\n",
       "</table>\n",
       "</div>"
      ],
      "text/plain": [
       "   CustomerID   Genre  Age  Annual_Income_(k$)  Spending_Score\n",
       "0           1    Male   19                  15              39\n",
       "1           2    Male   21                  15              81\n",
       "2           3  Female   20                  16               6\n",
       "3           4  Female   23                  16              77\n",
       "4           5  Female   31                  17              40"
      ]
     },
     "execution_count": 1,
     "metadata": {},
     "output_type": "execute_result"
    }
   ],
   "source": [
    "import pandas as pd\n",
    "import matplotlib.pyplot as plt\n",
    "df = pd.read_csv('~/Documents/GitHub/professional-development/2020 Data Science Bootcamp/Mall_Customers.csv')\n",
    "df.head()"
   ]
  },
  {
   "cell_type": "code",
   "execution_count": 19,
   "metadata": {},
   "outputs": [],
   "source": [
    "import numpy as np\n",
    "import seaborn as sns\n",
    "sns.set()\n",
    "from sklearn.cluster import KMeans"
   ]
  },
  {
   "cell_type": "code",
   "execution_count": 6,
   "metadata": {},
   "outputs": [
    {
     "data": {
      "text/plain": [
       "<matplotlib.collections.PathCollection at 0x7fd1033a55e0>"
      ]
     },
     "execution_count": 6,
     "metadata": {},
     "output_type": "execute_result"
    },
    {
     "data": {
      "image/png": "[encoded data removed]",
      "text/plain": [
       "<Figure size 432x288 with 1 Axes>"
      ]
     },
     "metadata": {},
     "output_type": "display_data"
    }
   ],
   "source": [
    "# Plot the data\n",
    "plt.scatter(df['Annual_Income_(k$)'], df['Age'])"
   ]
  },
  {
   "cell_type": "code",
   "execution_count": 16,
   "metadata": {},
   "outputs": [],
   "source": [
    "# Select the features\n",
    "x = df.iloc[:, 2:4]"
   ]
  },
  {
   "cell_type": "code",
   "execution_count": 17,
   "metadata": {},
   "outputs": [
    {
     "data": {
      "text/html": [
       "<div>\n",
       "<style scoped>\n",
       "    .dataframe tbody tr th:only-of-type {\n",
       "        vertical-align: middle;\n",
       "    }\n",
       "\n",
       "    .dataframe tbody tr th {\n",
       "        vertical-align: top;\n",
       "    }\n",
       "\n",
       "    .dataframe thead th {\n",
       "        text-align: right;\n",
       "    }\n",
       "</style>\n",
       "<table border=\"1\" class=\"dataframe\">\n",
       "  <thead>\n",
       "    <tr style=\"text-align: right;\">\n",
       "      <th></th>\n",
       "      <th>Age</th>\n",
       "      <th>Annual_Income_(k$)</th>\n",
       "    </tr>\n",
       "  </thead>\n",
       "  <tbody>\n",
       "    <tr>\n",
       "      <th>0</th>\n",
       "      <td>19</td>\n",
       "      <td>15</td>\n",
       "    </tr>\n",
       "    <tr>\n",
       "      <th>1</th>\n",
       "      <td>21</td>\n",
       "      <td>15</td>\n",
       "    </tr>\n",
       "    <tr>\n",
       "      <th>2</th>\n",
       "      <td>20</td>\n",
       "      <td>16</td>\n",
       "    </tr>\n",
       "    <tr>\n",
       "      <th>3</th>\n",
       "      <td>23</td>\n",
       "      <td>16</td>\n",
       "    </tr>\n",
       "    <tr>\n",
       "      <th>4</th>\n",
       "      <td>31</td>\n",
       "      <td>17</td>\n",
       "    </tr>\n",
       "    <tr>\n",
       "      <th>...</th>\n",
       "      <td>...</td>\n",
       "      <td>...</td>\n",
       "    </tr>\n",
       "    <tr>\n",
       "      <th>195</th>\n",
       "      <td>35</td>\n",
       "      <td>120</td>\n",
       "    </tr>\n",
       "    <tr>\n",
       "      <th>196</th>\n",
       "      <td>45</td>\n",
       "      <td>126</td>\n",
       "    </tr>\n",
       "    <tr>\n",
       "      <th>197</th>\n",
       "      <td>32</td>\n",
       "      <td>126</td>\n",
       "    </tr>\n",
       "    <tr>\n",
       "      <th>198</th>\n",
       "      <td>32</td>\n",
       "      <td>137</td>\n",
       "    </tr>\n",
       "    <tr>\n",
       "      <th>199</th>\n",
       "      <td>30</td>\n",
       "      <td>137</td>\n",
       "    </tr>\n",
       "  </tbody>\n",
       "</table>\n",
       "<p>200 rows × 2 columns</p>\n",
       "</div>"
      ],
      "text/plain": [
       "     Age  Annual_Income_(k$)\n",
       "0     19                  15\n",
       "1     21                  15\n",
       "2     20                  16\n",
       "3     23                  16\n",
       "4     31                  17\n",
       "..   ...                 ...\n",
       "195   35                 120\n",
       "196   45                 126\n",
       "197   32                 126\n",
       "198   32                 137\n",
       "199   30                 137\n",
       "\n",
       "[200 rows x 2 columns]"
      ]
     },
     "execution_count": 17,
     "metadata": {},
     "output_type": "execute_result"
    }
   ],
   "source": [
    "x"
   ]
  },
  {
   "cell_type": "code",
   "execution_count": 28,
   "metadata": {},
   "outputs": [],
   "source": [
    "# Declare a variable called KMeans\n",
    "kmeans = KMeans(3)"
   ]
  },
  {
   "cell_type": "code",
   "execution_count": 29,
   "metadata": {},
   "outputs": [
    {
     "data": {
      "text/plain": [
       "KMeans(n_clusters=3)"
      ]
     },
     "execution_count": 29,
     "metadata": {},
     "output_type": "execute_result"
    }
   ],
   "source": [
    "# this line of code will k means clustering with 2 clusters\n",
    "kmeans.fit(x)"
   ]
  },
  {
   "cell_type": "code",
   "execution_count": 30,
   "metadata": {},
   "outputs": [
    {
     "data": {
      "text/plain": [
       "array([0, 0, 0, 0, 0, 0, 0, 0, 1, 0, 1, 0, 1, 0, 0, 0, 0, 0, 0, 0, 0, 0,\n",
       "       0, 0, 1, 0, 0, 0, 0, 0, 1, 0, 1, 0, 1, 0, 0, 0, 0, 0, 1, 0, 1, 0,\n",
       "       1, 0, 1, 0, 0, 0, 1, 0, 0, 1, 1, 1, 1, 1, 0, 1, 1, 0, 1, 1, 1, 0,\n",
       "       1, 1, 0, 0, 1, 1, 1, 1, 1, 0, 1, 1, 0, 1, 1, 1, 1, 1, 0, 1, 1, 0,\n",
       "       1, 1, 1, 0, 1, 1, 2, 2, 1, 2, 1, 2, 2, 1, 1, 2, 1, 2, 1, 1, 1, 1,\n",
       "       1, 2, 2, 2, 2, 2, 1, 1, 1, 1, 2, 2, 2, 2, 2, 2, 2, 2, 1, 2, 2, 2,\n",
       "       2, 2, 2, 2, 2, 2, 2, 2, 2, 2, 2, 2, 2, 2, 2, 2, 2, 2, 2, 2, 2, 2,\n",
       "       2, 2, 2, 2, 2, 2, 2, 2, 2, 2, 2, 2, 2, 2, 2, 2, 2, 2, 2, 2, 2, 2,\n",
       "       2, 2, 2, 2, 2, 2, 2, 2, 2, 2, 2, 2, 2, 2, 2, 2, 2, 2, 2, 2, 2, 2,\n",
       "       2, 2], dtype=int32)"
      ]
     },
     "execution_count": 30,
     "metadata": {},
     "output_type": "execute_result"
    }
   ],
   "source": [
    "identified_clusters = kmeans.fit_predict(x)\n",
    "identified_clusters"
   ]
  },
  {
   "cell_type": "code",
   "execution_count": 31,
   "metadata": {},
   "outputs": [
    {
     "data": {
      "text/html": [
       "<div>\n",
       "<style scoped>\n",
       "    .dataframe tbody tr th:only-of-type {\n",
       "        vertical-align: middle;\n",
       "    }\n",
       "\n",
       "    .dataframe tbody tr th {\n",
       "        vertical-align: top;\n",
       "    }\n",
       "\n",
       "    .dataframe thead th {\n",
       "        text-align: right;\n",
       "    }\n",
       "</style>\n",
       "<table border=\"1\" class=\"dataframe\">\n",
       "  <thead>\n",
       "    <tr style=\"text-align: right;\">\n",
       "      <th></th>\n",
       "      <th>CustomerID</th>\n",
       "      <th>Genre</th>\n",
       "      <th>Age</th>\n",
       "      <th>Annual_Income_(k$)</th>\n",
       "      <th>Spending_Score</th>\n",
       "      <th>Cluster</th>\n",
       "    </tr>\n",
       "  </thead>\n",
       "  <tbody>\n",
       "    <tr>\n",
       "      <th>0</th>\n",
       "      <td>1</td>\n",
       "      <td>Male</td>\n",
       "      <td>19</td>\n",
       "      <td>15</td>\n",
       "      <td>39</td>\n",
       "      <td>0</td>\n",
       "    </tr>\n",
       "    <tr>\n",
       "      <th>1</th>\n",
       "      <td>2</td>\n",
       "      <td>Male</td>\n",
       "      <td>21</td>\n",
       "      <td>15</td>\n",
       "      <td>81</td>\n",
       "      <td>0</td>\n",
       "    </tr>\n",
       "    <tr>\n",
       "      <th>2</th>\n",
       "      <td>3</td>\n",
       "      <td>Female</td>\n",
       "      <td>20</td>\n",
       "      <td>16</td>\n",
       "      <td>6</td>\n",
       "      <td>0</td>\n",
       "    </tr>\n",
       "    <tr>\n",
       "      <th>3</th>\n",
       "      <td>4</td>\n",
       "      <td>Female</td>\n",
       "      <td>23</td>\n",
       "      <td>16</td>\n",
       "      <td>77</td>\n",
       "      <td>0</td>\n",
       "    </tr>\n",
       "    <tr>\n",
       "      <th>4</th>\n",
       "      <td>5</td>\n",
       "      <td>Female</td>\n",
       "      <td>31</td>\n",
       "      <td>17</td>\n",
       "      <td>40</td>\n",
       "      <td>0</td>\n",
       "    </tr>\n",
       "    <tr>\n",
       "      <th>...</th>\n",
       "      <td>...</td>\n",
       "      <td>...</td>\n",
       "      <td>...</td>\n",
       "      <td>...</td>\n",
       "      <td>...</td>\n",
       "      <td>...</td>\n",
       "    </tr>\n",
       "    <tr>\n",
       "      <th>195</th>\n",
       "      <td>196</td>\n",
       "      <td>Female</td>\n",
       "      <td>35</td>\n",
       "      <td>120</td>\n",
       "      <td>79</td>\n",
       "      <td>2</td>\n",
       "    </tr>\n",
       "    <tr>\n",
       "      <th>196</th>\n",
       "      <td>197</td>\n",
       "      <td>Female</td>\n",
       "      <td>45</td>\n",
       "      <td>126</td>\n",
       "      <td>28</td>\n",
       "      <td>2</td>\n",
       "    </tr>\n",
       "    <tr>\n",
       "      <th>197</th>\n",
       "      <td>198</td>\n",
       "      <td>Male</td>\n",
       "      <td>32</td>\n",
       "      <td>126</td>\n",
       "      <td>74</td>\n",
       "      <td>2</td>\n",
       "    </tr>\n",
       "    <tr>\n",
       "      <th>198</th>\n",
       "      <td>199</td>\n",
       "      <td>Male</td>\n",
       "      <td>32</td>\n",
       "      <td>137</td>\n",
       "      <td>18</td>\n",
       "      <td>2</td>\n",
       "    </tr>\n",
       "    <tr>\n",
       "      <th>199</th>\n",
       "      <td>200</td>\n",
       "      <td>Male</td>\n",
       "      <td>30</td>\n",
       "      <td>137</td>\n",
       "      <td>83</td>\n",
       "      <td>2</td>\n",
       "    </tr>\n",
       "  </tbody>\n",
       "</table>\n",
       "<p>200 rows × 6 columns</p>\n",
       "</div>"
      ],
      "text/plain": [
       "     CustomerID   Genre  Age  Annual_Income_(k$)  Spending_Score  Cluster\n",
       "0             1    Male   19                  15              39        0\n",
       "1             2    Male   21                  15              81        0\n",
       "2             3  Female   20                  16               6        0\n",
       "3             4  Female   23                  16              77        0\n",
       "4             5  Female   31                  17              40        0\n",
       "..          ...     ...  ...                 ...             ...      ...\n",
       "195         196  Female   35                 120              79        2\n",
       "196         197  Female   45                 126              28        2\n",
       "197         198    Male   32                 126              74        2\n",
       "198         199    Male   32                 137              18        2\n",
       "199         200    Male   30                 137              83        2\n",
       "\n",
       "[200 rows x 6 columns]"
      ]
     },
     "execution_count": 31,
     "metadata": {},
     "output_type": "execute_result"
    }
   ],
   "source": [
    "data_with_clusters = df.copy()\n",
    "data_with_clusters['Cluster'] = identified_clusters\n",
    "data_with_clusters"
   ]
  },
  {
   "cell_type": "code",
   "execution_count": 32,
   "metadata": {},
   "outputs": [
    {
     "data": {
      "text/plain": [
       "<matplotlib.collections.PathCollection at 0x7fd103933640>"
      ]
     },
     "execution_count": 32,
     "metadata": {},
     "output_type": "execute_result"
    },
    {
     "data": {
      "image/png": "[encoded data removed]",
      "text/plain": [
       "<Figure size 432x288 with 1 Axes>"
      ]
     },
     "metadata": {},
     "output_type": "display_data"
    }
   ],
   "source": [
    "# Plots our clusters\n",
    "plt.scatter(data_with_clusters['Annual_Income_(k$)'], data_with_clusters['Age'], \n",
    "            c=data_with_clusters['Cluster'], cmap = 'rainbow')"
   ]
  },
  {
   "cell_type": "code",
   "execution_count": 52,
   "metadata": {},
   "outputs": [
    {
     "data": {
      "text/html": [
       "<div>\n",
       "<style scoped>\n",
       "    .dataframe tbody tr th:only-of-type {\n",
       "        vertical-align: middle;\n",
       "    }\n",
       "\n",
       "    .dataframe tbody tr th {\n",
       "        vertical-align: top;\n",
       "    }\n",
       "\n",
       "    .dataframe thead th {\n",
       "        text-align: right;\n",
       "    }\n",
       "</style>\n",
       "<table border=\"1\" class=\"dataframe\">\n",
       "  <thead>\n",
       "    <tr style=\"text-align: right;\">\n",
       "      <th></th>\n",
       "      <th>CustomerID</th>\n",
       "      <th>Genre</th>\n",
       "      <th>Age</th>\n",
       "      <th>Annual_Income_(k$)</th>\n",
       "      <th>Spending_Score</th>\n",
       "      <th>Gender</th>\n",
       "    </tr>\n",
       "  </thead>\n",
       "  <tbody>\n",
       "    <tr>\n",
       "      <th>0</th>\n",
       "      <td>1</td>\n",
       "      <td>Male</td>\n",
       "      <td>19</td>\n",
       "      <td>15</td>\n",
       "      <td>39</td>\n",
       "      <td>0</td>\n",
       "    </tr>\n",
       "    <tr>\n",
       "      <th>1</th>\n",
       "      <td>2</td>\n",
       "      <td>Male</td>\n",
       "      <td>21</td>\n",
       "      <td>15</td>\n",
       "      <td>81</td>\n",
       "      <td>0</td>\n",
       "    </tr>\n",
       "    <tr>\n",
       "      <th>2</th>\n",
       "      <td>3</td>\n",
       "      <td>Female</td>\n",
       "      <td>20</td>\n",
       "      <td>16</td>\n",
       "      <td>6</td>\n",
       "      <td>1</td>\n",
       "    </tr>\n",
       "    <tr>\n",
       "      <th>3</th>\n",
       "      <td>4</td>\n",
       "      <td>Female</td>\n",
       "      <td>23</td>\n",
       "      <td>16</td>\n",
       "      <td>77</td>\n",
       "      <td>1</td>\n",
       "    </tr>\n",
       "    <tr>\n",
       "      <th>4</th>\n",
       "      <td>5</td>\n",
       "      <td>Female</td>\n",
       "      <td>31</td>\n",
       "      <td>17</td>\n",
       "      <td>40</td>\n",
       "      <td>1</td>\n",
       "    </tr>\n",
       "    <tr>\n",
       "      <th>...</th>\n",
       "      <td>...</td>\n",
       "      <td>...</td>\n",
       "      <td>...</td>\n",
       "      <td>...</td>\n",
       "      <td>...</td>\n",
       "      <td>...</td>\n",
       "    </tr>\n",
       "    <tr>\n",
       "      <th>195</th>\n",
       "      <td>196</td>\n",
       "      <td>Female</td>\n",
       "      <td>35</td>\n",
       "      <td>120</td>\n",
       "      <td>79</td>\n",
       "      <td>1</td>\n",
       "    </tr>\n",
       "    <tr>\n",
       "      <th>196</th>\n",
       "      <td>197</td>\n",
       "      <td>Female</td>\n",
       "      <td>45</td>\n",
       "      <td>126</td>\n",
       "      <td>28</td>\n",
       "      <td>1</td>\n",
       "    </tr>\n",
       "    <tr>\n",
       "      <th>197</th>\n",
       "      <td>198</td>\n",
       "      <td>Male</td>\n",
       "      <td>32</td>\n",
       "      <td>126</td>\n",
       "      <td>74</td>\n",
       "      <td>0</td>\n",
       "    </tr>\n",
       "    <tr>\n",
       "      <th>198</th>\n",
       "      <td>199</td>\n",
       "      <td>Male</td>\n",
       "      <td>32</td>\n",
       "      <td>137</td>\n",
       "      <td>18</td>\n",
       "      <td>0</td>\n",
       "    </tr>\n",
       "    <tr>\n",
       "      <th>199</th>\n",
       "      <td>200</td>\n",
       "      <td>Male</td>\n",
       "      <td>30</td>\n",
       "      <td>137</td>\n",
       "      <td>83</td>\n",
       "      <td>0</td>\n",
       "    </tr>\n",
       "  </tbody>\n",
       "</table>\n",
       "<p>200 rows × 6 columns</p>\n",
       "</div>"
      ],
      "text/plain": [
       "     CustomerID   Genre  Age  Annual_Income_(k$)  Spending_Score  Gender\n",
       "0             1    Male   19                  15              39       0\n",
       "1             2    Male   21                  15              81       0\n",
       "2             3  Female   20                  16               6       1\n",
       "3             4  Female   23                  16              77       1\n",
       "4             5  Female   31                  17              40       1\n",
       "..          ...     ...  ...                 ...             ...     ...\n",
       "195         196  Female   35                 120              79       1\n",
       "196         197  Female   45                 126              28       1\n",
       "197         198    Male   32                 126              74       0\n",
       "198         199    Male   32                 137              18       0\n",
       "199         200    Male   30                 137              83       0\n",
       "\n",
       "[200 rows x 6 columns]"
      ]
     },
     "execution_count": 52,
     "metadata": {},
     "output_type": "execute_result"
    }
   ],
   "source": [
    "data_mapped = df.copy()\n",
    "data_mapped['Gender'] = data_mapped['Genre'].map({'Male': 0, 'Female': 1})\n",
    "data_mapped"
   ]
  },
  {
   "cell_type": "code",
   "execution_count": 60,
   "metadata": {},
   "outputs": [
    {
     "data": {
      "text/html": [
       "<div>\n",
       "<style scoped>\n",
       "    .dataframe tbody tr th:only-of-type {\n",
       "        vertical-align: middle;\n",
       "    }\n",
       "\n",
       "    .dataframe tbody tr th {\n",
       "        vertical-align: top;\n",
       "    }\n",
       "\n",
       "    .dataframe thead th {\n",
       "        text-align: right;\n",
       "    }\n",
       "</style>\n",
       "<table border=\"1\" class=\"dataframe\">\n",
       "  <thead>\n",
       "    <tr style=\"text-align: right;\">\n",
       "      <th></th>\n",
       "      <th>Gender</th>\n",
       "    </tr>\n",
       "  </thead>\n",
       "  <tbody>\n",
       "    <tr>\n",
       "      <th>0</th>\n",
       "      <td>0</td>\n",
       "    </tr>\n",
       "    <tr>\n",
       "      <th>1</th>\n",
       "      <td>0</td>\n",
       "    </tr>\n",
       "    <tr>\n",
       "      <th>2</th>\n",
       "      <td>1</td>\n",
       "    </tr>\n",
       "    <tr>\n",
       "      <th>3</th>\n",
       "      <td>1</td>\n",
       "    </tr>\n",
       "    <tr>\n",
       "      <th>4</th>\n",
       "      <td>1</td>\n",
       "    </tr>\n",
       "    <tr>\n",
       "      <th>...</th>\n",
       "      <td>...</td>\n",
       "    </tr>\n",
       "    <tr>\n",
       "      <th>195</th>\n",
       "      <td>1</td>\n",
       "    </tr>\n",
       "    <tr>\n",
       "      <th>196</th>\n",
       "      <td>1</td>\n",
       "    </tr>\n",
       "    <tr>\n",
       "      <th>197</th>\n",
       "      <td>0</td>\n",
       "    </tr>\n",
       "    <tr>\n",
       "      <th>198</th>\n",
       "      <td>0</td>\n",
       "    </tr>\n",
       "    <tr>\n",
       "      <th>199</th>\n",
       "      <td>0</td>\n",
       "    </tr>\n",
       "  </tbody>\n",
       "</table>\n",
       "<p>200 rows × 1 columns</p>\n",
       "</div>"
      ],
      "text/plain": [
       "     Gender\n",
       "0         0\n",
       "1         0\n",
       "2         1\n",
       "3         1\n",
       "4         1\n",
       "..      ...\n",
       "195       1\n",
       "196       1\n",
       "197       0\n",
       "198       0\n",
       "199       0\n",
       "\n",
       "[200 rows x 1 columns]"
      ]
     },
     "execution_count": 60,
     "metadata": {},
     "output_type": "execute_result"
    }
   ],
   "source": [
    "# Select the features you want to use for clustering\n",
    "x = data_mapped.iloc[:, [5]]\n",
    "x"
   ]
  },
  {
   "cell_type": "code",
   "execution_count": 61,
   "metadata": {},
   "outputs": [],
   "source": [
    "# Declare a variable called KMeans\n",
    "kmeans = KMeans(2)"
   ]
  },
  {
   "cell_type": "code",
   "execution_count": 62,
   "metadata": {},
   "outputs": [
    {
     "data": {
      "text/plain": [
       "KMeans(n_clusters=2)"
      ]
     },
     "execution_count": 62,
     "metadata": {},
     "output_type": "execute_result"
    }
   ],
   "source": [
    "# this line of code will k means clustering with 2 clusters\n",
    "kmeans.fit(x)"
   ]
  },
  {
   "cell_type": "code",
   "execution_count": 63,
   "metadata": {},
   "outputs": [
    {
     "data": {
      "text/plain": [
       "array([0, 0, 1, 1, 1, 1, 1, 1, 0, 1, 0, 1, 1, 1, 0, 0, 1, 0, 0, 1, 0, 0,\n",
       "       1, 0, 1, 0, 1, 0, 1, 1, 0, 1, 0, 0, 1, 1, 1, 1, 1, 1, 1, 0, 0, 1,\n",
       "       1, 1, 1, 1, 1, 1, 1, 0, 1, 0, 1, 0, 1, 0, 1, 0, 0, 0, 1, 1, 0, 0,\n",
       "       1, 1, 0, 1, 0, 1, 1, 1, 0, 0, 1, 0, 1, 1, 0, 0, 0, 1, 1, 0, 1, 1,\n",
       "       1, 1, 1, 0, 0, 1, 1, 0, 1, 1, 0, 0, 1, 1, 0, 0, 0, 1, 1, 0, 0, 0,\n",
       "       0, 1, 1, 0, 1, 1, 1, 1, 1, 1, 0, 1, 1, 0, 1, 1, 0, 0, 0, 0, 0, 0,\n",
       "       1, 1, 0, 1, 1, 0, 0, 1, 1, 0, 1, 1, 0, 0, 0, 1, 1, 0, 0, 0, 1, 1,\n",
       "       1, 1, 0, 1, 0, 1, 1, 1, 0, 1, 0, 1, 0, 1, 1, 0, 0, 0, 0, 0, 1, 1,\n",
       "       0, 0, 0, 0, 1, 1, 0, 1, 1, 0, 1, 0, 1, 1, 1, 1, 0, 1, 1, 1, 1, 0,\n",
       "       0, 0], dtype=int32)"
      ]
     },
     "execution_count": 63,
     "metadata": {},
     "output_type": "execute_result"
    }
   ],
   "source": [
    "identified_clusters = kmeans.fit_predict(x)\n",
    "identified_clusters"
   ]
  },
  {
   "cell_type": "code",
   "execution_count": 64,
   "metadata": {},
   "outputs": [
    {
     "data": {
      "text/html": [
       "<div>\n",
       "<style scoped>\n",
       "    .dataframe tbody tr th:only-of-type {\n",
       "        vertical-align: middle;\n",
       "    }\n",
       "\n",
       "    .dataframe tbody tr th {\n",
       "        vertical-align: top;\n",
       "    }\n",
       "\n",
       "    .dataframe thead th {\n",
       "        text-align: right;\n",
       "    }\n",
       "</style>\n",
       "<table border=\"1\" class=\"dataframe\">\n",
       "  <thead>\n",
       "    <tr style=\"text-align: right;\">\n",
       "      <th></th>\n",
       "      <th>CustomerID</th>\n",
       "      <th>Genre</th>\n",
       "      <th>Age</th>\n",
       "      <th>Annual_Income_(k$)</th>\n",
       "      <th>Spending_Score</th>\n",
       "      <th>Cluster</th>\n",
       "    </tr>\n",
       "  </thead>\n",
       "  <tbody>\n",
       "    <tr>\n",
       "      <th>0</th>\n",
       "      <td>1</td>\n",
       "      <td>Male</td>\n",
       "      <td>19</td>\n",
       "      <td>15</td>\n",
       "      <td>39</td>\n",
       "      <td>0</td>\n",
       "    </tr>\n",
       "    <tr>\n",
       "      <th>1</th>\n",
       "      <td>2</td>\n",
       "      <td>Male</td>\n",
       "      <td>21</td>\n",
       "      <td>15</td>\n",
       "      <td>81</td>\n",
       "      <td>0</td>\n",
       "    </tr>\n",
       "    <tr>\n",
       "      <th>2</th>\n",
       "      <td>3</td>\n",
       "      <td>Female</td>\n",
       "      <td>20</td>\n",
       "      <td>16</td>\n",
       "      <td>6</td>\n",
       "      <td>1</td>\n",
       "    </tr>\n",
       "    <tr>\n",
       "      <th>3</th>\n",
       "      <td>4</td>\n",
       "      <td>Female</td>\n",
       "      <td>23</td>\n",
       "      <td>16</td>\n",
       "      <td>77</td>\n",
       "      <td>1</td>\n",
       "    </tr>\n",
       "    <tr>\n",
       "      <th>4</th>\n",
       "      <td>5</td>\n",
       "      <td>Female</td>\n",
       "      <td>31</td>\n",
       "      <td>17</td>\n",
       "      <td>40</td>\n",
       "      <td>1</td>\n",
       "    </tr>\n",
       "    <tr>\n",
       "      <th>...</th>\n",
       "      <td>...</td>\n",
       "      <td>...</td>\n",
       "      <td>...</td>\n",
       "      <td>...</td>\n",
       "      <td>...</td>\n",
       "      <td>...</td>\n",
       "    </tr>\n",
       "    <tr>\n",
       "      <th>195</th>\n",
       "      <td>196</td>\n",
       "      <td>Female</td>\n",
       "      <td>35</td>\n",
       "      <td>120</td>\n",
       "      <td>79</td>\n",
       "      <td>1</td>\n",
       "    </tr>\n",
       "    <tr>\n",
       "      <th>196</th>\n",
       "      <td>197</td>\n",
       "      <td>Female</td>\n",
       "      <td>45</td>\n",
       "      <td>126</td>\n",
       "      <td>28</td>\n",
       "      <td>1</td>\n",
       "    </tr>\n",
       "    <tr>\n",
       "      <th>197</th>\n",
       "      <td>198</td>\n",
       "      <td>Male</td>\n",
       "      <td>32</td>\n",
       "      <td>126</td>\n",
       "      <td>74</td>\n",
       "      <td>0</td>\n",
       "    </tr>\n",
       "    <tr>\n",
       "      <th>198</th>\n",
       "      <td>199</td>\n",
       "      <td>Male</td>\n",
       "      <td>32</td>\n",
       "      <td>137</td>\n",
       "      <td>18</td>\n",
       "      <td>0</td>\n",
       "    </tr>\n",
       "    <tr>\n",
       "      <th>199</th>\n",
       "      <td>200</td>\n",
       "      <td>Male</td>\n",
       "      <td>30</td>\n",
       "      <td>137</td>\n",
       "      <td>83</td>\n",
       "      <td>0</td>\n",
       "    </tr>\n",
       "  </tbody>\n",
       "</table>\n",
       "<p>200 rows × 6 columns</p>\n",
       "</div>"
      ],
      "text/plain": [
       "     CustomerID   Genre  Age  Annual_Income_(k$)  Spending_Score  Cluster\n",
       "0             1    Male   19                  15              39        0\n",
       "1             2    Male   21                  15              81        0\n",
       "2             3  Female   20                  16               6        1\n",
       "3             4  Female   23                  16              77        1\n",
       "4             5  Female   31                  17              40        1\n",
       "..          ...     ...  ...                 ...             ...      ...\n",
       "195         196  Female   35                 120              79        1\n",
       "196         197  Female   45                 126              28        1\n",
       "197         198    Male   32                 126              74        0\n",
       "198         199    Male   32                 137              18        0\n",
       "199         200    Male   30                 137              83        0\n",
       "\n",
       "[200 rows x 6 columns]"
      ]
     },
     "execution_count": 64,
     "metadata": {},
     "output_type": "execute_result"
    }
   ],
   "source": [
    "data_mapped = df.copy()\n",
    "data_mapped['Cluster'] = identified_clusters\n",
    "data_mapped"
   ]
  },
  {
   "cell_type": "code",
   "execution_count": 65,
   "metadata": {},
   "outputs": [
    {
     "data": {
      "text/plain": [
       "<matplotlib.collections.PathCollection at 0x7fd1039cea30>"
      ]
     },
     "execution_count": 65,
     "metadata": {},
     "output_type": "execute_result"
    },
    {
     "data": {
      "image/png": "[encoded data removed]",
      "text/plain": [
       "<Figure size 432x288 with 1 Axes>"
      ]
     },
     "metadata": {},
     "output_type": "display_data"
    }
   ],
   "source": [
    "# Plots our clusters\n",
    "plt.scatter(data_mapped['Annual_Income_(k$)'], data_mapped['Age'], \n",
    "            c=data_mapped['Cluster'], cmap = 'rainbow')"
   ]
  },
  {
   "cell_type": "markdown",
   "metadata": {},
   "source": [
    "Is there a criterion for setting the proper number of clusters? The most widely adopted criterion is the elbow method. The distance between points in a cluster or Within cluster sum of squares or WCSS. WCSS is a measure developed within the ANOVA framework. If we minimize WCSS, we will get the ideal number of clusters. We don't want it to be minimized, we want it to be as small as possible, while also keeping our number of clusters as small as possible. We need two pieces of information for our elbow plot, the number of clusters and the WCSS for a specific number of clusters. "
   ]
  },
  {
   "cell_type": "code",
   "execution_count": 67,
   "metadata": {},
   "outputs": [
    {
     "data": {
      "text/html": [
       "<div>\n",
       "<style scoped>\n",
       "    .dataframe tbody tr th:only-of-type {\n",
       "        vertical-align: middle;\n",
       "    }\n",
       "\n",
       "    .dataframe tbody tr th {\n",
       "        vertical-align: top;\n",
       "    }\n",
       "\n",
       "    .dataframe thead th {\n",
       "        text-align: right;\n",
       "    }\n",
       "</style>\n",
       "<table border=\"1\" class=\"dataframe\">\n",
       "  <thead>\n",
       "    <tr style=\"text-align: right;\">\n",
       "      <th></th>\n",
       "      <th>Age</th>\n",
       "      <th>Annual_Income_(k$)</th>\n",
       "    </tr>\n",
       "  </thead>\n",
       "  <tbody>\n",
       "    <tr>\n",
       "      <th>0</th>\n",
       "      <td>19</td>\n",
       "      <td>15</td>\n",
       "    </tr>\n",
       "    <tr>\n",
       "      <th>1</th>\n",
       "      <td>21</td>\n",
       "      <td>15</td>\n",
       "    </tr>\n",
       "    <tr>\n",
       "      <th>2</th>\n",
       "      <td>20</td>\n",
       "      <td>16</td>\n",
       "    </tr>\n",
       "    <tr>\n",
       "      <th>3</th>\n",
       "      <td>23</td>\n",
       "      <td>16</td>\n",
       "    </tr>\n",
       "    <tr>\n",
       "      <th>4</th>\n",
       "      <td>31</td>\n",
       "      <td>17</td>\n",
       "    </tr>\n",
       "    <tr>\n",
       "      <th>...</th>\n",
       "      <td>...</td>\n",
       "      <td>...</td>\n",
       "    </tr>\n",
       "    <tr>\n",
       "      <th>195</th>\n",
       "      <td>35</td>\n",
       "      <td>120</td>\n",
       "    </tr>\n",
       "    <tr>\n",
       "      <th>196</th>\n",
       "      <td>45</td>\n",
       "      <td>126</td>\n",
       "    </tr>\n",
       "    <tr>\n",
       "      <th>197</th>\n",
       "      <td>32</td>\n",
       "      <td>126</td>\n",
       "    </tr>\n",
       "    <tr>\n",
       "      <th>198</th>\n",
       "      <td>32</td>\n",
       "      <td>137</td>\n",
       "    </tr>\n",
       "    <tr>\n",
       "      <th>199</th>\n",
       "      <td>30</td>\n",
       "      <td>137</td>\n",
       "    </tr>\n",
       "  </tbody>\n",
       "</table>\n",
       "<p>200 rows × 2 columns</p>\n",
       "</div>"
      ],
      "text/plain": [
       "     Age  Annual_Income_(k$)\n",
       "0     19                  15\n",
       "1     21                  15\n",
       "2     20                  16\n",
       "3     23                  16\n",
       "4     31                  17\n",
       "..   ...                 ...\n",
       "195   35                 120\n",
       "196   45                 126\n",
       "197   32                 126\n",
       "198   32                 137\n",
       "199   30                 137\n",
       "\n",
       "[200 rows x 2 columns]"
      ]
     },
     "execution_count": 67,
     "metadata": {},
     "output_type": "execute_result"
    }
   ],
   "source": [
    "# We will now do the elbow method for our first clustering\n",
    "# Select the features\n",
    "x = df.iloc[:, 2:4]\n",
    "x"
   ]
  },
  {
   "cell_type": "code",
   "execution_count": 68,
   "metadata": {},
   "outputs": [
    {
     "data": {
      "text/plain": [
       "87121.56591478694"
      ]
     },
     "execution_count": 68,
     "metadata": {},
     "output_type": "execute_result"
    }
   ],
   "source": [
    "kmeans = KMeans(2)\n",
    "kmeans.fit(x)\n",
    "kmeans.inertia_"
   ]
  },
  {
   "cell_type": "code",
   "execution_count": 69,
   "metadata": {},
   "outputs": [],
   "source": [
    "wcss = []\n",
    "\n",
    "for i in range(1, 11):    \n",
    "    km = KMeans(n_clusters = i)\n",
    "    km.fit(x)\n",
    "    wcss.append(km.inertia_)"
   ]
  },
  {
   "cell_type": "code",
   "execution_count": 70,
   "metadata": {},
   "outputs": [
    {
     "data": {
      "text/plain": [
       "[176108.77999999997,\n",
       " 87121.56591478694,\n",
       " 59486.961439280356,\n",
       " 39529.887967363524,\n",
       " 31659.353138717805,\n",
       " 25542.202445965133,\n",
       " 22021.230345104203,\n",
       " 18928.525674651595,\n",
       " 16014.133475652245,\n",
       " 13740.988694875536]"
      ]
     },
     "execution_count": 70,
     "metadata": {},
     "output_type": "execute_result"
    }
   ],
   "source": [
    "wcss"
   ]
  },
  {
   "cell_type": "code",
   "execution_count": 71,
   "metadata": {},
   "outputs": [
    {
     "data": {
      "image/png": "[encoded data removed]",
      "text/plain": [
       "<Figure size 432x288 with 1 Axes>"
      ]
     },
     "metadata": {},
     "output_type": "display_data"
    }
   ],
   "source": [
    "plt.plot(range(1, 11), wcss)\n",
    "plt.title('Elbow Method')\n",
    "plt.xlabel('Number of clusters')\n",
    "plt.ylabel('Within-cluster Sum of Squares')\n",
    "plt.show()"
   ]
  },
  {
   "cell_type": "markdown",
   "metadata": {},
   "source": [
    "Pros and Cons of K-Means:\n",
    "pros\n",
    "- Simple to understand\n",
    "- Fast to cluster\n",
    "- Widely available\n",
    "- Easy to implement\n",
    "- Always yields a result\n",
    "\n",
    "cons\n",
    "- We need to pick K\n",
    "- Sensitive to initialization\n",
    "- Sensitive to outliers\n",
    "- Produces spherical solutions (we use euclidean distance so our clusters are more spherical)\n",
    "- Standardization\n",
    "\n",
    "remedies\n",
    "- The elbow method\n",
    "- k-means++ (figures out the most appropriate seeds for the clustering itself)\n",
    "- Remove outliers"
   ]
  },
  {
   "cell_type": "markdown",
   "metadata": {},
   "source": [
    "To standardize or not to standardize?\n",
    "The ultimate aim of standardization is to reduce the weight of higher numbers and increase the weight of  lower ones. Scale matters in KMeans, therefore sometimes standardization does not make sense to do. If we don't standardize the range of the values serve as weights for each variable. If we don't standardize we don't get all of the utilization out of our fields. However, there are times when you shouldn't standardize, if we know one variable is more important than the other,  than we shouldn't standardize. "
   ]
  },
  {
   "cell_type": "markdown",
   "metadata": {},
   "source": [
    "Clustering is a good way of identifying omitted variable bias, where clustering allows us to explore the data and find signficiant features that have been omitted from the model."
   ]
  },
  {
   "cell_type": "code",
   "execution_count": 72,
   "metadata": {},
   "outputs": [
    {
     "data": {
      "text/html": [
       "<div>\n",
       "<style scoped>\n",
       "    .dataframe tbody tr th:only-of-type {\n",
       "        vertical-align: middle;\n",
       "    }\n",
       "\n",
       "    .dataframe tbody tr th {\n",
       "        vertical-align: top;\n",
       "    }\n",
       "\n",
       "    .dataframe thead th {\n",
       "        text-align: right;\n",
       "    }\n",
       "</style>\n",
       "<table border=\"1\" class=\"dataframe\">\n",
       "  <thead>\n",
       "    <tr style=\"text-align: right;\">\n",
       "      <th></th>\n",
       "      <th>CustomerID</th>\n",
       "      <th>Genre</th>\n",
       "      <th>Age</th>\n",
       "      <th>Annual_Income_(k$)</th>\n",
       "      <th>Spending_Score</th>\n",
       "    </tr>\n",
       "  </thead>\n",
       "  <tbody>\n",
       "    <tr>\n",
       "      <th>0</th>\n",
       "      <td>1</td>\n",
       "      <td>Male</td>\n",
       "      <td>19</td>\n",
       "      <td>15</td>\n",
       "      <td>39</td>\n",
       "    </tr>\n",
       "    <tr>\n",
       "      <th>1</th>\n",
       "      <td>2</td>\n",
       "      <td>Male</td>\n",
       "      <td>21</td>\n",
       "      <td>15</td>\n",
       "      <td>81</td>\n",
       "    </tr>\n",
       "    <tr>\n",
       "      <th>2</th>\n",
       "      <td>3</td>\n",
       "      <td>Female</td>\n",
       "      <td>20</td>\n",
       "      <td>16</td>\n",
       "      <td>6</td>\n",
       "    </tr>\n",
       "    <tr>\n",
       "      <th>3</th>\n",
       "      <td>4</td>\n",
       "      <td>Female</td>\n",
       "      <td>23</td>\n",
       "      <td>16</td>\n",
       "      <td>77</td>\n",
       "    </tr>\n",
       "    <tr>\n",
       "      <th>4</th>\n",
       "      <td>5</td>\n",
       "      <td>Female</td>\n",
       "      <td>31</td>\n",
       "      <td>17</td>\n",
       "      <td>40</td>\n",
       "    </tr>\n",
       "    <tr>\n",
       "      <th>...</th>\n",
       "      <td>...</td>\n",
       "      <td>...</td>\n",
       "      <td>...</td>\n",
       "      <td>...</td>\n",
       "      <td>...</td>\n",
       "    </tr>\n",
       "    <tr>\n",
       "      <th>195</th>\n",
       "      <td>196</td>\n",
       "      <td>Female</td>\n",
       "      <td>35</td>\n",
       "      <td>120</td>\n",
       "      <td>79</td>\n",
       "    </tr>\n",
       "    <tr>\n",
       "      <th>196</th>\n",
       "      <td>197</td>\n",
       "      <td>Female</td>\n",
       "      <td>45</td>\n",
       "      <td>126</td>\n",
       "      <td>28</td>\n",
       "    </tr>\n",
       "    <tr>\n",
       "      <th>197</th>\n",
       "      <td>198</td>\n",
       "      <td>Male</td>\n",
       "      <td>32</td>\n",
       "      <td>126</td>\n",
       "      <td>74</td>\n",
       "    </tr>\n",
       "    <tr>\n",
       "      <th>198</th>\n",
       "      <td>199</td>\n",
       "      <td>Male</td>\n",
       "      <td>32</td>\n",
       "      <td>137</td>\n",
       "      <td>18</td>\n",
       "    </tr>\n",
       "    <tr>\n",
       "      <th>199</th>\n",
       "      <td>200</td>\n",
       "      <td>Male</td>\n",
       "      <td>30</td>\n",
       "      <td>137</td>\n",
       "      <td>83</td>\n",
       "    </tr>\n",
       "  </tbody>\n",
       "</table>\n",
       "<p>200 rows × 5 columns</p>\n",
       "</div>"
      ],
      "text/plain": [
       "     CustomerID   Genre  Age  Annual_Income_(k$)  Spending_Score\n",
       "0             1    Male   19                  15              39\n",
       "1             2    Male   21                  15              81\n",
       "2             3  Female   20                  16               6\n",
       "3             4  Female   23                  16              77\n",
       "4             5  Female   31                  17              40\n",
       "..          ...     ...  ...                 ...             ...\n",
       "195         196  Female   35                 120              79\n",
       "196         197  Female   45                 126              28\n",
       "197         198    Male   32                 126              74\n",
       "198         199    Male   32                 137              18\n",
       "199         200    Male   30                 137              83\n",
       "\n",
       "[200 rows x 5 columns]"
      ]
     },
     "execution_count": 72,
     "metadata": {},
     "output_type": "execute_result"
    }
   ],
   "source": [
    "# Now let's do some Market Segmentation  with our Mall data\n",
    "df"
   ]
  },
  {
   "cell_type": "code",
   "execution_count": 73,
   "metadata": {},
   "outputs": [
    {
     "data": {
      "text/plain": [
       "<matplotlib.collections.PathCollection at 0x7fd103ea2190>"
      ]
     },
     "execution_count": 73,
     "metadata": {},
     "output_type": "execute_result"
    },
    {
     "data": {
      "image/png": "[encoded data removed]",
      "text/plain": [
       "<Figure size 432x288 with 1 Axes>"
      ]
     },
     "metadata": {},
     "output_type": "display_data"
    }
   ],
   "source": [
    "# We can think of five clusters perhaps. Spending score is Score assigned by the mall \n",
    "#based on customer behavior and spending nature\n",
    "plt.scatter(df['Annual_Income_(k$)'], df['Spending_Score'])"
   ]
  },
  {
   "cell_type": "code",
   "execution_count": 88,
   "metadata": {},
   "outputs": [],
   "source": [
    "# Select the features\n",
    "x = df.iloc[:, 1:5]\n",
    "x['Genre'] = x['Genre'].map({'Male': 0, 'Female': 1})"
   ]
  },
  {
   "cell_type": "code",
   "execution_count": 89,
   "metadata": {},
   "outputs": [
    {
     "data": {
      "text/plain": [
       "KMeans(n_clusters=5)"
      ]
     },
     "execution_count": 89,
     "metadata": {},
     "output_type": "execute_result"
    }
   ],
   "source": [
    "# Clustering\n",
    "kmeans = KMeans(5)\n",
    "kmeans.fit(x)"
   ]
  },
  {
   "cell_type": "code",
   "execution_count": 90,
   "metadata": {},
   "outputs": [],
   "source": [
    "clusters = x.copy()"
   ]
  },
  {
   "cell_type": "code",
   "execution_count": 91,
   "metadata": {},
   "outputs": [],
   "source": [
    "clusters['Cluster_pred'] = kmeans.fit_predict(x)"
   ]
  },
  {
   "cell_type": "code",
   "execution_count": 92,
   "metadata": {},
   "outputs": [
    {
     "data": {
      "text/plain": [
       "<matplotlib.collections.PathCollection at 0x7fd103fbcbb0>"
      ]
     },
     "execution_count": 92,
     "metadata": {},
     "output_type": "execute_result"
    },
    {
     "data": {
      "image/png": "[encoded data removed]",
      "text/plain": [
       "<Figure size 432x288 with 1 Axes>"
      ]
     },
     "metadata": {},
     "output_type": "display_data"
    }
   ],
   "source": [
    "# Plots our clusters\n",
    "plt.scatter(clusters['Annual_Income_(k$)'], clusters['Spending_Score'], \n",
    "            c=clusters['Cluster_pred'], cmap = 'rainbow')"
   ]
  },
  {
   "cell_type": "code",
   "execution_count": 93,
   "metadata": {},
   "outputs": [
    {
     "data": {
      "text/plain": [
       "array([[-1.12815215, -1.42456879, -1.73899919, -0.43480148],\n",
       "       [-1.12815215, -1.28103541, -1.73899919,  1.19570407],\n",
       "       [ 0.88640526, -1.3528021 , -1.70082976, -1.71591298],\n",
       "       [ 0.88640526, -1.13750203, -1.70082976,  1.04041783],\n",
       "       [ 0.88640526, -0.56336851, -1.66266033, -0.39597992],\n",
       "       [ 0.88640526, -1.20926872, -1.66266033,  1.00159627],\n",
       "       [ 0.88640526, -0.27630176, -1.62449091, -1.71591298],\n",
       "       [ 0.88640526, -1.13750203, -1.62449091,  1.70038436],\n",
       "       [-1.12815215,  1.80493225, -1.58632148, -1.83237767],\n",
       "       [ 0.88640526, -0.6351352 , -1.58632148,  0.84631002],\n",
       "       [-1.12815215,  2.02023231, -1.58632148, -1.4053405 ],\n",
       "       [ 0.88640526, -0.27630176, -1.58632148,  1.89449216],\n",
       "       [ 0.88640526,  1.37433211, -1.54815205, -1.36651894],\n",
       "       [ 0.88640526, -1.06573534, -1.54815205,  1.04041783],\n",
       "       [-1.12815215, -0.13276838, -1.54815205, -1.44416206],\n",
       "       [-1.12815215, -1.20926872, -1.54815205,  1.11806095],\n",
       "       [ 0.88640526, -0.27630176, -1.50998262, -0.59008772],\n",
       "       [-1.12815215, -1.3528021 , -1.50998262,  0.61338066],\n",
       "       [-1.12815215,  0.94373197, -1.43364376, -0.82301709],\n",
       "       [ 0.88640526, -0.27630176, -1.43364376,  1.8556706 ],\n",
       "       [-1.12815215, -0.27630176, -1.39547433, -0.59008772],\n",
       "       [-1.12815215, -0.99396865, -1.39547433,  0.88513158],\n",
       "       [ 0.88640526,  0.51313183, -1.3573049 , -1.75473454],\n",
       "       [-1.12815215, -0.56336851, -1.3573049 ,  0.88513158],\n",
       "       [ 0.88640526,  1.08726535, -1.24279661, -1.4053405 ],\n",
       "       [-1.12815215, -0.70690189, -1.24279661,  1.23452563],\n",
       "       [ 0.88640526,  0.44136514, -1.24279661, -0.7065524 ],\n",
       "       [-1.12815215, -0.27630176, -1.24279661,  0.41927286],\n",
       "       [ 0.88640526,  0.08253169, -1.20462718, -0.74537397],\n",
       "       [ 0.88640526, -1.13750203, -1.20462718,  1.42863343],\n",
       "       [-1.12815215,  1.51786549, -1.16645776, -1.7935561 ],\n",
       "       [ 0.88640526, -1.28103541, -1.16645776,  0.88513158],\n",
       "       [-1.12815215,  1.01549866, -1.05194947, -1.7935561 ],\n",
       "       [-1.12815215, -1.49633548, -1.05194947,  1.62274124],\n",
       "       [ 0.88640526,  0.7284319 , -1.05194947, -1.4053405 ],\n",
       "       [ 0.88640526, -1.28103541, -1.05194947,  1.19570407],\n",
       "       [ 0.88640526,  0.22606507, -1.01378004, -1.28887582],\n",
       "       [ 0.88640526, -0.6351352 , -1.01378004,  0.88513158],\n",
       "       [ 0.88640526, -0.20453507, -0.89927175, -0.93948177],\n",
       "       [ 0.88640526, -1.3528021 , -0.89927175,  0.96277471],\n",
       "       [ 0.88640526,  1.87669894, -0.86110232, -0.59008772],\n",
       "       [-1.12815215, -1.06573534, -0.86110232,  1.62274124],\n",
       "       [-1.12815215,  0.65666521, -0.82293289, -0.55126616],\n",
       "       [ 0.88640526, -0.56336851, -0.82293289,  0.41927286],\n",
       "       [ 0.88640526,  0.7284319 , -0.82293289, -0.86183865],\n",
       "       [ 0.88640526, -1.06573534, -0.82293289,  0.5745591 ],\n",
       "       [ 0.88640526,  0.80019859, -0.78476346,  0.18634349],\n",
       "       [ 0.88640526, -0.85043527, -0.78476346, -0.12422899],\n",
       "       [ 0.88640526, -0.70690189, -0.78476346, -0.3183368 ],\n",
       "       [ 0.88640526, -0.56336851, -0.78476346, -0.3183368 ],\n",
       "       [ 0.88640526,  0.7284319 , -0.70842461,  0.06987881],\n",
       "       [-1.12815215, -0.41983513, -0.70842461,  0.38045129],\n",
       "       [ 0.88640526, -0.56336851, -0.67025518,  0.14752193],\n",
       "       [-1.12815215,  1.4460988 , -0.67025518,  0.38045129],\n",
       "       [ 0.88640526,  0.80019859, -0.67025518, -0.20187212],\n",
       "       [-1.12815215,  0.58489852, -0.67025518, -0.35715836],\n",
       "       [ 0.88640526,  0.87196528, -0.63208575, -0.00776431],\n",
       "       [-1.12815215,  2.16376569, -0.63208575, -0.16305055],\n",
       "       [ 0.88640526, -0.85043527, -0.55574689,  0.03105725],\n",
       "       [-1.12815215,  1.01549866, -0.55574689, -0.16305055],\n",
       "       [-1.12815215,  2.23553238, -0.55574689,  0.22516505],\n",
       "       [-1.12815215, -1.42456879, -0.55574689,  0.18634349],\n",
       "       [ 0.88640526,  2.02023231, -0.51757746,  0.06987881],\n",
       "       [ 0.88640526,  1.08726535, -0.51757746,  0.34162973],\n",
       "       [-1.12815215,  1.73316556, -0.47940803,  0.03105725],\n",
       "       [-1.12815215, -1.49633548, -0.47940803,  0.34162973],\n",
       "       [ 0.88640526,  0.29783176, -0.47940803, -0.00776431],\n",
       "       [ 0.88640526,  2.091999  , -0.47940803, -0.08540743],\n",
       "       [-1.12815215, -1.42456879, -0.47940803,  0.34162973],\n",
       "       [ 0.88640526, -0.49160182, -0.47940803, -0.12422899],\n",
       "       [-1.12815215,  2.23553238, -0.4412386 ,  0.18634349],\n",
       "       [ 0.88640526,  0.58489852, -0.4412386 , -0.3183368 ],\n",
       "       [ 0.88640526,  1.51786549, -0.40306917, -0.04658587],\n",
       "       [ 0.88640526,  1.51786549, -0.40306917,  0.22516505],\n",
       "       [-1.12815215,  1.4460988 , -0.25039146, -0.12422899],\n",
       "       [-1.12815215, -0.92220196, -0.25039146,  0.14752193],\n",
       "       [ 0.88640526,  0.44136514, -0.25039146,  0.10870037],\n",
       "       [-1.12815215,  0.08253169, -0.25039146, -0.08540743],\n",
       "       [ 0.88640526, -1.13750203, -0.25039146,  0.06987881],\n",
       "       [ 0.88640526,  0.7284319 , -0.25039146, -0.3183368 ],\n",
       "       [-1.12815215,  1.30256542, -0.25039146,  0.03105725],\n",
       "       [-1.12815215, -0.06100169, -0.25039146,  0.18634349],\n",
       "       [-1.12815215,  2.02023231, -0.25039146, -0.35715836],\n",
       "       [ 0.88640526,  0.51313183, -0.25039146, -0.24069368],\n",
       "       [ 0.88640526, -1.28103541, -0.25039146,  0.26398661],\n",
       "       [-1.12815215,  0.65666521, -0.25039146, -0.16305055],\n",
       "       [ 0.88640526,  1.15903204, -0.13588317,  0.30280817],\n",
       "       [ 0.88640526, -1.20926872, -0.13588317,  0.18634349],\n",
       "       [ 0.88640526, -0.34806844, -0.09771374,  0.38045129],\n",
       "       [ 0.88640526,  0.80019859, -0.09771374, -0.16305055],\n",
       "       [ 0.88640526,  2.091999  , -0.05954431,  0.18634349],\n",
       "       [-1.12815215, -1.49633548, -0.05954431, -0.35715836],\n",
       "       [-1.12815215,  0.65666521, -0.02137488, -0.04658587],\n",
       "       [ 0.88640526,  0.08253169, -0.02137488, -0.39597992],\n",
       "       [ 0.88640526, -0.49160182, -0.02137488, -0.3183368 ],\n",
       "       [-1.12815215, -1.06573534, -0.02137488,  0.06987881],\n",
       "       [ 0.88640526,  0.58489852, -0.02137488, -0.12422899],\n",
       "       [ 0.88640526, -0.85043527, -0.02137488, -0.00776431],\n",
       "       [-1.12815215,  0.65666521,  0.01679455, -0.3183368 ],\n",
       "       [-1.12815215, -1.3528021 ,  0.01679455, -0.04658587],\n",
       "       [ 0.88640526, -1.13750203,  0.05496398, -0.35715836],\n",
       "       [ 0.88640526,  0.7284319 ,  0.05496398, -0.08540743],\n",
       "       [-1.12815215,  2.02023231,  0.05496398,  0.34162973],\n",
       "       [-1.12815215, -0.92220196,  0.05496398,  0.18634349],\n",
       "       [-1.12815215,  0.7284319 ,  0.05496398,  0.22516505],\n",
       "       [ 0.88640526, -1.28103541,  0.05496398, -0.3183368 ],\n",
       "       [ 0.88640526,  1.94846562,  0.09313341, -0.00776431],\n",
       "       [-1.12815215,  1.08726535,  0.09313341, -0.16305055],\n",
       "       [-1.12815215,  2.091999  ,  0.09313341, -0.27951524],\n",
       "       [-1.12815215,  1.94846562,  0.09313341, -0.08540743],\n",
       "       [-1.12815215,  1.87669894,  0.09313341,  0.06987881],\n",
       "       [ 0.88640526, -1.42456879,  0.09313341,  0.14752193],\n",
       "       [ 0.88640526, -0.06100169,  0.13130284, -0.3183368 ],\n",
       "       [-1.12815215, -1.42456879,  0.13130284, -0.16305055],\n",
       "       [ 0.88640526, -1.49633548,  0.16947227, -0.08540743],\n",
       "       [ 0.88640526, -1.42456879,  0.16947227, -0.00776431],\n",
       "       [ 0.88640526,  1.73316556,  0.16947227, -0.27951524],\n",
       "       [ 0.88640526,  0.7284319 ,  0.16947227,  0.34162973],\n",
       "       [ 0.88640526,  0.87196528,  0.24581112, -0.27951524],\n",
       "       [ 0.88640526,  0.80019859,  0.24581112,  0.26398661],\n",
       "       [-1.12815215, -0.85043527,  0.24581112,  0.22516505],\n",
       "       [ 0.88640526, -0.06100169,  0.24581112, -0.39597992],\n",
       "       [ 0.88640526,  0.08253169,  0.32214998,  0.30280817],\n",
       "       [-1.12815215,  0.010765  ,  0.32214998,  1.58391968],\n",
       "       [ 0.88640526, -1.13750203,  0.36031941, -0.82301709],\n",
       "       [ 0.88640526, -0.56336851,  0.36031941,  1.04041783],\n",
       "       [-1.12815215,  0.29783176,  0.39848884, -0.59008772],\n",
       "       [-1.12815215,  0.08253169,  0.39848884,  1.73920592],\n",
       "       [-1.12815215,  1.4460988 ,  0.39848884, -1.52180518],\n",
       "       [-1.12815215, -0.06100169,  0.39848884,  0.96277471],\n",
       "       [-1.12815215,  0.58489852,  0.39848884, -1.5994483 ],\n",
       "       [-1.12815215,  0.010765  ,  0.39848884,  0.96277471],\n",
       "       [ 0.88640526, -0.99396865,  0.43665827, -0.62890928],\n",
       "       [ 0.88640526, -0.56336851,  0.43665827,  0.80748846],\n",
       "       [-1.12815215, -1.3528021 ,  0.4748277 , -1.75473454],\n",
       "       [ 0.88640526, -0.70690189,  0.4748277 ,  1.46745499],\n",
       "       [ 0.88640526,  0.36959845,  0.4748277 , -1.67709142],\n",
       "       [-1.12815215, -0.49160182,  0.4748277 ,  0.88513158],\n",
       "       [-1.12815215, -1.42456879,  0.51299713, -1.56062674],\n",
       "       [ 0.88640526, -0.27630176,  0.51299713,  0.84631002],\n",
       "       [ 0.88640526,  1.30256542,  0.55116656, -1.75473454],\n",
       "       [-1.12815215, -0.49160182,  0.55116656,  1.6615628 ],\n",
       "       [ 0.88640526, -0.77866858,  0.58933599, -0.39597992],\n",
       "       [ 0.88640526, -0.49160182,  0.58933599,  1.42863343],\n",
       "       [-1.12815215, -0.99396865,  0.62750542, -1.48298362],\n",
       "       [-1.12815215, -0.77866858,  0.62750542,  1.81684904],\n",
       "       [-1.12815215,  0.65666521,  0.62750542, -0.55126616],\n",
       "       [ 0.88640526, -0.49160182,  0.62750542,  0.92395314],\n",
       "       [ 0.88640526, -0.34806844,  0.66567484, -1.09476801],\n",
       "       [-1.12815215, -0.34806844,  0.66567484,  1.54509812],\n",
       "       [-1.12815215,  0.29783176,  0.66567484, -1.28887582],\n",
       "       [-1.12815215,  0.010765  ,  0.66567484,  1.46745499],\n",
       "       [ 0.88640526,  0.36959845,  0.66567484, -1.17241113],\n",
       "       [ 0.88640526, -0.06100169,  0.66567484,  1.00159627],\n",
       "       [ 0.88640526,  0.58489852,  0.66567484, -1.32769738],\n",
       "       [ 0.88640526, -0.85043527,  0.66567484,  1.50627656],\n",
       "       [-1.12815215, -0.13276838,  0.66567484, -1.91002079],\n",
       "       [ 0.88640526, -0.6351352 ,  0.66567484,  1.07923939],\n",
       "       [-1.12815215, -0.34806844,  0.66567484, -1.91002079],\n",
       "       [ 0.88640526, -0.6351352 ,  0.66567484,  0.88513158],\n",
       "       [ 0.88640526,  1.23079873,  0.70384427, -0.59008772],\n",
       "       [ 0.88640526, -0.70690189,  0.70384427,  1.27334719],\n",
       "       [-1.12815215, -1.42456879,  0.78018313, -1.75473454],\n",
       "       [ 0.88640526, -0.56336851,  0.78018313,  1.6615628 ],\n",
       "       [-1.12815215,  0.80019859,  0.93286085, -0.93948177],\n",
       "       [ 0.88640526, -0.20453507,  0.93286085,  0.96277471],\n",
       "       [-1.12815215,  0.22606507,  0.97103028, -1.17241113],\n",
       "       [ 0.88640526, -0.41983513,  0.97103028,  1.73920592],\n",
       "       [ 0.88640526, -0.20453507,  1.00919971, -0.90066021],\n",
       "       [-1.12815215, -0.49160182,  1.00919971,  0.49691598],\n",
       "       [-1.12815215,  0.08253169,  1.00919971, -1.44416206],\n",
       "       [-1.12815215, -0.77866858,  1.00919971,  0.96277471],\n",
       "       [-1.12815215, -0.20453507,  1.00919971, -1.56062674],\n",
       "       [-1.12815215, -0.20453507,  1.00919971,  1.62274124],\n",
       "       [ 0.88640526,  0.94373197,  1.04736914, -1.44416206],\n",
       "       [ 0.88640526, -0.6351352 ,  1.04736914,  1.38981187],\n",
       "       [-1.12815215,  1.37433211,  1.04736914, -1.36651894],\n",
       "       [-1.12815215, -0.85043527,  1.04736914,  0.72984534],\n",
       "       [-1.12815215,  1.4460988 ,  1.23821628, -1.4053405 ],\n",
       "       [-1.12815215, -0.27630176,  1.23821628,  1.54509812],\n",
       "       [ 0.88640526, -0.13276838,  1.390894  , -0.7065524 ],\n",
       "       [ 0.88640526, -0.49160182,  1.390894  ,  1.38981187],\n",
       "       [-1.12815215,  0.51313183,  1.42906343, -1.36651894],\n",
       "       [ 0.88640526, -0.70690189,  1.42906343,  1.46745499],\n",
       "       [ 0.88640526,  0.15429838,  1.46723286, -0.43480148],\n",
       "       [-1.12815215, -0.6351352 ,  1.46723286,  1.81684904],\n",
       "       [ 0.88640526,  1.08726535,  1.54357172, -1.01712489],\n",
       "       [-1.12815215, -0.77866858,  1.54357172,  0.69102378],\n",
       "       [ 0.88640526,  0.15429838,  1.61991057, -1.28887582],\n",
       "       [ 0.88640526, -0.20453507,  1.61991057,  1.35099031],\n",
       "       [ 0.88640526, -0.34806844,  1.61991057, -1.05594645],\n",
       "       [ 0.88640526, -0.49160182,  1.61991057,  0.72984534],\n",
       "       [-1.12815215, -0.41983513,  2.00160487, -1.63826986],\n",
       "       [ 0.88640526, -0.06100169,  2.00160487,  1.58391968],\n",
       "       [ 0.88640526,  0.58489852,  2.26879087, -1.32769738],\n",
       "       [ 0.88640526, -0.27630176,  2.26879087,  1.11806095],\n",
       "       [ 0.88640526,  0.44136514,  2.49780745, -0.86183865],\n",
       "       [-1.12815215, -0.49160182,  2.49780745,  0.92395314],\n",
       "       [-1.12815215, -0.49160182,  2.91767117, -1.25005425],\n",
       "       [-1.12815215, -0.6351352 ,  2.91767117,  1.27334719]])"
      ]
     },
     "execution_count": 93,
     "metadata": {},
     "output_type": "execute_result"
    }
   ],
   "source": [
    "# Let's standardize \n",
    "from sklearn import preprocessing\n",
    "x_scaled = preprocessing.scale(x)\n",
    "x_scaled"
   ]
  },
  {
   "cell_type": "code",
   "execution_count": 94,
   "metadata": {},
   "outputs": [],
   "source": [
    "wcss = []\n",
    "\n",
    "for i in range(1, 10):    \n",
    "    km = KMeans(n_clusters = i)\n",
    "    km.fit(x_scaled)\n",
    "    wcss.append(km.inertia_)"
   ]
  },
  {
   "cell_type": "code",
   "execution_count": 95,
   "metadata": {},
   "outputs": [
    {
     "data": {
      "image/png": "[encoded data removed]",
      "text/plain": [
       "<Figure size 432x288 with 1 Axes>"
      ]
     },
     "metadata": {},
     "output_type": "display_data"
    }
   ],
   "source": [
    "plt.plot(range(1, 10), wcss)\n",
    "plt.title('Elbow Method')\n",
    "plt.xlabel('Number of clusters')\n",
    "plt.ylabel('Within-cluster Sum of Squares')\n",
    "plt.show()"
   ]
  },
  {
   "cell_type": "markdown",
   "metadata": {},
   "source": [
    "We can see the change but we don't really know which solution is the best one. "
   ]
  },
  {
   "cell_type": "code",
   "execution_count": 96,
   "metadata": {},
   "outputs": [],
   "source": [
    "kmeans_new = KMeans(5)\n",
    "kmeans_new.fit(x_scaled)\n",
    "clusters_new = x.copy()\n",
    "clusters_new['cluster_pred'] = kmeans_new.fit_predict(x_scaled)"
   ]
  },
  {
   "cell_type": "code",
   "execution_count": 97,
   "metadata": {},
   "outputs": [
    {
     "data": {
      "text/html": [
       "<div>\n",
       "<style scoped>\n",
       "    .dataframe tbody tr th:only-of-type {\n",
       "        vertical-align: middle;\n",
       "    }\n",
       "\n",
       "    .dataframe tbody tr th {\n",
       "        vertical-align: top;\n",
       "    }\n",
       "\n",
       "    .dataframe thead th {\n",
       "        text-align: right;\n",
       "    }\n",
       "</style>\n",
       "<table border=\"1\" class=\"dataframe\">\n",
       "  <thead>\n",
       "    <tr style=\"text-align: right;\">\n",
       "      <th></th>\n",
       "      <th>Genre</th>\n",
       "      <th>Age</th>\n",
       "      <th>Annual_Income_(k$)</th>\n",
       "      <th>Spending_Score</th>\n",
       "      <th>cluster_pred</th>\n",
       "    </tr>\n",
       "  </thead>\n",
       "  <tbody>\n",
       "    <tr>\n",
       "      <th>0</th>\n",
       "      <td>0</td>\n",
       "      <td>19</td>\n",
       "      <td>15</td>\n",
       "      <td>39</td>\n",
       "      <td>1</td>\n",
       "    </tr>\n",
       "    <tr>\n",
       "      <th>1</th>\n",
       "      <td>0</td>\n",
       "      <td>21</td>\n",
       "      <td>15</td>\n",
       "      <td>81</td>\n",
       "      <td>1</td>\n",
       "    </tr>\n",
       "    <tr>\n",
       "      <th>2</th>\n",
       "      <td>1</td>\n",
       "      <td>20</td>\n",
       "      <td>16</td>\n",
       "      <td>6</td>\n",
       "      <td>0</td>\n",
       "    </tr>\n",
       "    <tr>\n",
       "      <th>3</th>\n",
       "      <td>1</td>\n",
       "      <td>23</td>\n",
       "      <td>16</td>\n",
       "      <td>77</td>\n",
       "      <td>3</td>\n",
       "    </tr>\n",
       "    <tr>\n",
       "      <th>4</th>\n",
       "      <td>1</td>\n",
       "      <td>31</td>\n",
       "      <td>17</td>\n",
       "      <td>40</td>\n",
       "      <td>0</td>\n",
       "    </tr>\n",
       "    <tr>\n",
       "      <th>...</th>\n",
       "      <td>...</td>\n",
       "      <td>...</td>\n",
       "      <td>...</td>\n",
       "      <td>...</td>\n",
       "      <td>...</td>\n",
       "    </tr>\n",
       "    <tr>\n",
       "      <th>195</th>\n",
       "      <td>1</td>\n",
       "      <td>35</td>\n",
       "      <td>120</td>\n",
       "      <td>79</td>\n",
       "      <td>3</td>\n",
       "    </tr>\n",
       "    <tr>\n",
       "      <th>196</th>\n",
       "      <td>1</td>\n",
       "      <td>45</td>\n",
       "      <td>126</td>\n",
       "      <td>28</td>\n",
       "      <td>2</td>\n",
       "    </tr>\n",
       "    <tr>\n",
       "      <th>197</th>\n",
       "      <td>0</td>\n",
       "      <td>32</td>\n",
       "      <td>126</td>\n",
       "      <td>74</td>\n",
       "      <td>1</td>\n",
       "    </tr>\n",
       "    <tr>\n",
       "      <th>198</th>\n",
       "      <td>0</td>\n",
       "      <td>32</td>\n",
       "      <td>137</td>\n",
       "      <td>18</td>\n",
       "      <td>2</td>\n",
       "    </tr>\n",
       "    <tr>\n",
       "      <th>199</th>\n",
       "      <td>0</td>\n",
       "      <td>30</td>\n",
       "      <td>137</td>\n",
       "      <td>83</td>\n",
       "      <td>1</td>\n",
       "    </tr>\n",
       "  </tbody>\n",
       "</table>\n",
       "<p>200 rows × 5 columns</p>\n",
       "</div>"
      ],
      "text/plain": [
       "     Genre  Age  Annual_Income_(k$)  Spending_Score  cluster_pred\n",
       "0        0   19                  15              39             1\n",
       "1        0   21                  15              81             1\n",
       "2        1   20                  16               6             0\n",
       "3        1   23                  16              77             3\n",
       "4        1   31                  17              40             0\n",
       "..     ...  ...                 ...             ...           ...\n",
       "195      1   35                 120              79             3\n",
       "196      1   45                 126              28             2\n",
       "197      0   32                 126              74             1\n",
       "198      0   32                 137              18             2\n",
       "199      0   30                 137              83             1\n",
       "\n",
       "[200 rows x 5 columns]"
      ]
     },
     "execution_count": 97,
     "metadata": {},
     "output_type": "execute_result"
    }
   ],
   "source": [
    "clusters_new"
   ]
  },
  {
   "cell_type": "code",
   "execution_count": 98,
   "metadata": {},
   "outputs": [
    {
     "data": {
      "text/plain": [
       "<matplotlib.collections.PathCollection at 0x7fd104151070>"
      ]
     },
     "execution_count": 98,
     "metadata": {},
     "output_type": "execute_result"
    },
    {
     "data": {
      "image/png": "[encoded data removed]",
      "text/plain": [
       "<Figure size 432x288 with 1 Axes>"
      ]
     },
     "metadata": {},
     "output_type": "display_data"
    }
   ],
   "source": [
    "# Plots our clusters\n",
    "plt.scatter(clusters_new['Annual_Income_(k$)'], clusters_new['Spending_Score'], \n",
    "            c=clusters_new['cluster_pred'], cmap = 'rainbow')"
   ]
  },
  {
   "cell_type": "markdown",
   "metadata": {},
   "source": [
    "In this example, we see how standardization actually ruined our clusters. It is much better to not standardize because some of our variables are more important than others, and should have a higher weight."
   ]
  },
  {
   "cell_type": "markdown",
   "metadata": {},
   "source": [
    "How is clustering actually useful? Types of analysis: Exploratory, confirmatory, and explanatory. Clustering is good for exploratory analysis, but can be used for all types of analysis. One useful clustering strategy is to find the variables and values for a specific group, such as if your customer base is mostly in their 20s. Now you have a way of specifically targetting your customers better."
   ]
  },
  {
   "cell_type": "markdown",
   "metadata": {},
   "source": [
    "### Section 39\n",
    "Types of clustering:\n",
    "- flat \n",
    "- hierarchical\n",
    "\n",
    "KMeans is flat, however hiererchal was actually developed first. Taxonomy of the animal kingdom is one example of clustering. There are two types of hierarchal clustering, agglomerative, bottom up, or divisive, top down.We can visualize hierarchal clustering with a dendogram"
   ]
  },
  {
   "cell_type": "markdown",
   "metadata": {},
   "source": [
    "Clusters of clusters can be best visualized in a dendogram. Here is an example of a dendogram:\n",
    "<img src = \"data:image/png;base64,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\">"
   ]
  },
  {
   "cell_type": "markdown",
   "metadata": {},
   "source": [
    "Dendogram \n",
    "Pros\n",
    "- Hierarchical clustering shows al the possible linkages between clusters\n",
    "- We understand the data much much better\n",
    "- No need to preset the number of clusters like with k-means\n",
    "- Many methods to perform hierarchical clustering\n",
    "\n",
    "cons\n",
    "- Scalability"
   ]
  },
  {
   "cell_type": "code",
   "execution_count": 102,
   "metadata": {},
   "outputs": [],
   "source": [
    "data = pd.read_csv('~/Documents/GitHub/professional-development/2020 Data Science Bootcamp/Mall_Customers.csv', index_col = 'CustomerID')\n",
    "x_scaled = data.copy()\n",
    "x_scaled = x_scaled.drop(['Genre'], axis = 1)"
   ]
  },
  {
   "cell_type": "code",
   "execution_count": 103,
   "metadata": {},
   "outputs": [
    {
     "data": {
      "text/html": [
       "<div>\n",
       "<style scoped>\n",
       "    .dataframe tbody tr th:only-of-type {\n",
       "        vertical-align: middle;\n",
       "    }\n",
       "\n",
       "    .dataframe tbody tr th {\n",
       "        vertical-align: top;\n",
       "    }\n",
       "\n",
       "    .dataframe thead th {\n",
       "        text-align: right;\n",
       "    }\n",
       "</style>\n",
       "<table border=\"1\" class=\"dataframe\">\n",
       "  <thead>\n",
       "    <tr style=\"text-align: right;\">\n",
       "      <th></th>\n",
       "      <th>Age</th>\n",
       "      <th>Annual_Income_(k$)</th>\n",
       "      <th>Spending_Score</th>\n",
       "    </tr>\n",
       "    <tr>\n",
       "      <th>CustomerID</th>\n",
       "      <th></th>\n",
       "      <th></th>\n",
       "      <th></th>\n",
       "    </tr>\n",
       "  </thead>\n",
       "  <tbody>\n",
       "    <tr>\n",
       "      <th>1</th>\n",
       "      <td>19</td>\n",
       "      <td>15</td>\n",
       "      <td>39</td>\n",
       "    </tr>\n",
       "    <tr>\n",
       "      <th>2</th>\n",
       "      <td>21</td>\n",
       "      <td>15</td>\n",
       "      <td>81</td>\n",
       "    </tr>\n",
       "    <tr>\n",
       "      <th>3</th>\n",
       "      <td>20</td>\n",
       "      <td>16</td>\n",
       "      <td>6</td>\n",
       "    </tr>\n",
       "    <tr>\n",
       "      <th>4</th>\n",
       "      <td>23</td>\n",
       "      <td>16</td>\n",
       "      <td>77</td>\n",
       "    </tr>\n",
       "    <tr>\n",
       "      <th>5</th>\n",
       "      <td>31</td>\n",
       "      <td>17</td>\n",
       "      <td>40</td>\n",
       "    </tr>\n",
       "    <tr>\n",
       "      <th>...</th>\n",
       "      <td>...</td>\n",
       "      <td>...</td>\n",
       "      <td>...</td>\n",
       "    </tr>\n",
       "    <tr>\n",
       "      <th>196</th>\n",
       "      <td>35</td>\n",
       "      <td>120</td>\n",
       "      <td>79</td>\n",
       "    </tr>\n",
       "    <tr>\n",
       "      <th>197</th>\n",
       "      <td>45</td>\n",
       "      <td>126</td>\n",
       "      <td>28</td>\n",
       "    </tr>\n",
       "    <tr>\n",
       "      <th>198</th>\n",
       "      <td>32</td>\n",
       "      <td>126</td>\n",
       "      <td>74</td>\n",
       "    </tr>\n",
       "    <tr>\n",
       "      <th>199</th>\n",
       "      <td>32</td>\n",
       "      <td>137</td>\n",
       "      <td>18</td>\n",
       "    </tr>\n",
       "    <tr>\n",
       "      <th>200</th>\n",
       "      <td>30</td>\n",
       "      <td>137</td>\n",
       "      <td>83</td>\n",
       "    </tr>\n",
       "  </tbody>\n",
       "</table>\n",
       "<p>200 rows × 3 columns</p>\n",
       "</div>"
      ],
      "text/plain": [
       "            Age  Annual_Income_(k$)  Spending_Score\n",
       "CustomerID                                         \n",
       "1            19                  15              39\n",
       "2            21                  15              81\n",
       "3            20                  16               6\n",
       "4            23                  16              77\n",
       "5            31                  17              40\n",
       "...         ...                 ...             ...\n",
       "196          35                 120              79\n",
       "197          45                 126              28\n",
       "198          32                 126              74\n",
       "199          32                 137              18\n",
       "200          30                 137              83\n",
       "\n",
       "[200 rows x 3 columns]"
      ]
     },
     "execution_count": 103,
     "metadata": {},
     "output_type": "execute_result"
    }
   ],
   "source": [
    "x_scaled"
   ]
  },
  {
   "cell_type": "code",
   "execution_count": 104,
   "metadata": {},
   "outputs": [
    {
     "data": {
      "text/plain": [
       "<seaborn.matrix.ClusterGrid at 0x7fd10431b3a0>"
      ]
     },
     "execution_count": 104,
     "metadata": {},
     "output_type": "execute_result"
    },
    {
     "data": {
      "image/png": "[encoded data removed]",
      "text/plain": [
       "<Figure size 720x720 with 4 Axes>"
      ]
     },
     "metadata": {},
     "output_type": "display_data"
    }
   ],
   "source": [
    "# Dendogram is not as useful when you have many observations\n",
    "sns.clustermap(x_scaled, cmap = 'mako')"
   ]
  },
  {
   "cell_type": "code",
   "execution_count": null,
   "metadata": {},
   "outputs": [],
   "source": []
  }
 ],
 "metadata": {
  "kernelspec": {
   "display_name": "Python 3",
   "language": "python",
   "name": "python3"
  },
  "language_info": {
   "codemirror_mode": {
    "name": "ipython",
    "version": 3
   },
   "file_extension": ".py",
   "mimetype": "text/x-python",
   "name": "python",
   "nbconvert_exporter": "python",
   "pygments_lexer": "ipython3",
   "version": "3.8.3"
  }
 },
 "nbformat": 4,
 "nbformat_minor": 4
}
