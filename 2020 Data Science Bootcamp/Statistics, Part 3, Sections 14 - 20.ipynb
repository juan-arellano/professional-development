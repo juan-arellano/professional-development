{
 "cells": [
  {
   "cell_type": "markdown",
   "metadata": {},
   "source": [
    "# Statistics \n",
    "## Part 3\n",
    "### Section 14"
   ]
  },
  {
   "cell_type": "markdown",
   "metadata": {},
   "source": [
    "A population is the collection of all items of interest and is usually denoted with an uppercase N. The numbers we obtain within our population is called parameters. A sample is a subset of the population and denoted by a lowercase n. The numbers we obtain within our sample data are called statistics. Populations are hard to define and hard to observe in real life. Samples however are less time consuming and cheaper. We can interview 50 NYU students at a bar is a sample of NYU students. You will almost always be working with sample data. Samples have two defining characteristics, randomness and representativeness. A random sample is collected when each member of the sample is chosen from the population by chance. A representative sample is a subset of the population that accurately reflects the members of the entire population. Walking into a bar at NYU and taking a sample would fail both randomness and representativeness. How do we draw a sample that is random and representative? We could send out a random survey."
   ]
  },
  {
   "cell_type": "markdown",
   "metadata": {},
   "source": [
    "### Section 15\n",
    "We need to know the variables we usually encounter. We can classify in two main ways, based on its type or its measurments. Types are categorical or numerical. Categorical are categories or groups, or answers to yes or no questions. Numerical data represents numbers, and can be further divided into discrete or continuous. Discrete variable can be something like the number of children you want to have. Another instance is grades on an exam. What's important is that you can imagine all the possible numbers in a discrete variable. Continuous data can be infinite. Continuous data can take on an infinite amount of variables. Other examples of discrete: grades, number of objects in general, and physical money. Examples of continuous: height, area, distance, and time. All of these can vary by infinitely smaller amounts. Time on a clock is discrete but time in general is continuous. "
   ]
  },
  {
   "cell_type": "markdown",
   "metadata": {},
   "source": [
    "Levels of measurement can be qualitative and quantitative data. Qualitative data can be nominal or ordinal. Nominal can be four seasons or brands of a car. They aren't numbers and cannot be ordered. Ordinal data follows a strict order, like rating your lunch as disgusting, neutral, or tasty. Quantitative can be split into interval or ratio. Ratio have a true 0 and intervals don't. Ratio data can be number of objects, distance and time. Temperature is the most common example of an interval. It doesn't have a true 0. In order to determine, you must know the context you are operating in. "
   ]
  },
  {
   "cell_type": "markdown",
   "metadata": {},
   "source": [
    "Visualizing data is the most intuitive way to interpret it. It is much easier to visualize data if you know its type and measurement level. Categorical variables can be represented as frequency distribution tables, bar charts, pie charts, or pareto diagrams. A pareto diagram is a special type of bar chart where categories are shown as frequency. A pareto diagram has a curve that shows the cumulative frequency. The pareto principle states that 80 percent of the effect come from 20 percent of the causes."
   ]
  },
  {
   "cell_type": "code",
   "execution_count": 8,
   "metadata": {},
   "outputs": [
    {
     "data": {
      "text/html": [
       "<div>\n",
       "<style scoped>\n",
       "    .dataframe tbody tr th:only-of-type {\n",
       "        vertical-align: middle;\n",
       "    }\n",
       "\n",
       "    .dataframe tbody tr th {\n",
       "        vertical-align: top;\n",
       "    }\n",
       "\n",
       "    .dataframe thead th {\n",
       "        text-align: right;\n",
       "    }\n",
       "</style>\n",
       "<table border=\"1\" class=\"dataframe\">\n",
       "  <thead>\n",
       "    <tr style=\"text-align: right;\">\n",
       "      <th></th>\n",
       "      <th>Overall rank</th>\n",
       "      <th>Country or region</th>\n",
       "      <th>Score</th>\n",
       "      <th>GDP per capita</th>\n",
       "      <th>Social support</th>\n",
       "      <th>Healthy life expectancy</th>\n",
       "      <th>Freedom to make life choices</th>\n",
       "      <th>Generosity</th>\n",
       "      <th>Perceptions of corruption</th>\n",
       "    </tr>\n",
       "  </thead>\n",
       "  <tbody>\n",
       "    <tr>\n",
       "      <th>0</th>\n",
       "      <td>1</td>\n",
       "      <td>Finland</td>\n",
       "      <td>7.769</td>\n",
       "      <td>1.340</td>\n",
       "      <td>1.587</td>\n",
       "      <td>0.986</td>\n",
       "      <td>0.596</td>\n",
       "      <td>0.153</td>\n",
       "      <td>0.393</td>\n",
       "    </tr>\n",
       "    <tr>\n",
       "      <th>1</th>\n",
       "      <td>2</td>\n",
       "      <td>Denmark</td>\n",
       "      <td>7.600</td>\n",
       "      <td>1.383</td>\n",
       "      <td>1.573</td>\n",
       "      <td>0.996</td>\n",
       "      <td>0.592</td>\n",
       "      <td>0.252</td>\n",
       "      <td>0.410</td>\n",
       "    </tr>\n",
       "    <tr>\n",
       "      <th>2</th>\n",
       "      <td>3</td>\n",
       "      <td>Norway</td>\n",
       "      <td>7.554</td>\n",
       "      <td>1.488</td>\n",
       "      <td>1.582</td>\n",
       "      <td>1.028</td>\n",
       "      <td>0.603</td>\n",
       "      <td>0.271</td>\n",
       "      <td>0.341</td>\n",
       "    </tr>\n",
       "    <tr>\n",
       "      <th>3</th>\n",
       "      <td>4</td>\n",
       "      <td>Iceland</td>\n",
       "      <td>7.494</td>\n",
       "      <td>1.380</td>\n",
       "      <td>1.624</td>\n",
       "      <td>1.026</td>\n",
       "      <td>0.591</td>\n",
       "      <td>0.354</td>\n",
       "      <td>0.118</td>\n",
       "    </tr>\n",
       "    <tr>\n",
       "      <th>4</th>\n",
       "      <td>5</td>\n",
       "      <td>Netherlands</td>\n",
       "      <td>7.488</td>\n",
       "      <td>1.396</td>\n",
       "      <td>1.522</td>\n",
       "      <td>0.999</td>\n",
       "      <td>0.557</td>\n",
       "      <td>0.322</td>\n",
       "      <td>0.298</td>\n",
       "    </tr>\n",
       "  </tbody>\n",
       "</table>\n",
       "</div>"
      ],
      "text/plain": [
       "   Overall rank Country or region  Score  GDP per capita  Social support  \\\n",
       "0             1           Finland  7.769           1.340           1.587   \n",
       "1             2           Denmark  7.600           1.383           1.573   \n",
       "2             3            Norway  7.554           1.488           1.582   \n",
       "3             4           Iceland  7.494           1.380           1.624   \n",
       "4             5       Netherlands  7.488           1.396           1.522   \n",
       "\n",
       "   Healthy life expectancy  Freedom to make life choices  Generosity  \\\n",
       "0                    0.986                         0.596       0.153   \n",
       "1                    0.996                         0.592       0.252   \n",
       "2                    1.028                         0.603       0.271   \n",
       "3                    1.026                         0.591       0.354   \n",
       "4                    0.999                         0.557       0.322   \n",
       "\n",
       "   Perceptions of corruption  \n",
       "0                      0.393  \n",
       "1                      0.410  \n",
       "2                      0.341  \n",
       "3                      0.118  \n",
       "4                      0.298  "
      ]
     },
     "execution_count": 8,
     "metadata": {},
     "output_type": "execute_result"
    }
   ],
   "source": [
    "import pandas as pd\n",
    "import matplotlib.pyplot as plt\n",
    "df = pd.read_csv('~/Documents/GitHub/professional-development/2020 Data Science Bootcamp/2019.csv')\n",
    "df.head()"
   ]
  },
  {
   "cell_type": "markdown",
   "metadata": {},
   "source": [
    "Categorical data can be represented in a frequency distribution table. The relative frequency is the frequency of a variable relative to the other variables. "
   ]
  },
  {
   "cell_type": "code",
   "execution_count": 9,
   "metadata": {
    "scrolled": true
   },
   "outputs": [
    {
     "data": {
      "text/html": [
       "<div>\n",
       "<style scoped>\n",
       "    .dataframe tbody tr th:only-of-type {\n",
       "        vertical-align: middle;\n",
       "    }\n",
       "\n",
       "    .dataframe tbody tr th {\n",
       "        vertical-align: top;\n",
       "    }\n",
       "\n",
       "    .dataframe thead th {\n",
       "        text-align: right;\n",
       "    }\n",
       "</style>\n",
       "<table border=\"1\" class=\"dataframe\">\n",
       "  <thead>\n",
       "    <tr style=\"text-align: right;\">\n",
       "      <th>col_0</th>\n",
       "      <th>count</th>\n",
       "    </tr>\n",
       "    <tr>\n",
       "      <th>Country or region</th>\n",
       "      <th></th>\n",
       "    </tr>\n",
       "  </thead>\n",
       "  <tbody>\n",
       "    <tr>\n",
       "      <th>Afghanistan</th>\n",
       "      <td>1</td>\n",
       "    </tr>\n",
       "    <tr>\n",
       "      <th>Albania</th>\n",
       "      <td>1</td>\n",
       "    </tr>\n",
       "    <tr>\n",
       "      <th>Algeria</th>\n",
       "      <td>1</td>\n",
       "    </tr>\n",
       "    <tr>\n",
       "      <th>Argentina</th>\n",
       "      <td>1</td>\n",
       "    </tr>\n",
       "    <tr>\n",
       "      <th>Armenia</th>\n",
       "      <td>1</td>\n",
       "    </tr>\n",
       "    <tr>\n",
       "      <th>...</th>\n",
       "      <td>...</td>\n",
       "    </tr>\n",
       "    <tr>\n",
       "      <th>Venezuela</th>\n",
       "      <td>1</td>\n",
       "    </tr>\n",
       "    <tr>\n",
       "      <th>Vietnam</th>\n",
       "      <td>1</td>\n",
       "    </tr>\n",
       "    <tr>\n",
       "      <th>Yemen</th>\n",
       "      <td>1</td>\n",
       "    </tr>\n",
       "    <tr>\n",
       "      <th>Zambia</th>\n",
       "      <td>1</td>\n",
       "    </tr>\n",
       "    <tr>\n",
       "      <th>Zimbabwe</th>\n",
       "      <td>1</td>\n",
       "    </tr>\n",
       "  </tbody>\n",
       "</table>\n",
       "<p>156 rows × 1 columns</p>\n",
       "</div>"
      ],
      "text/plain": [
       "col_0              count\n",
       "Country or region       \n",
       "Afghanistan            1\n",
       "Albania                1\n",
       "Algeria                1\n",
       "Argentina              1\n",
       "Armenia                1\n",
       "...                  ...\n",
       "Venezuela              1\n",
       "Vietnam                1\n",
       "Yemen                  1\n",
       "Zambia                 1\n",
       "Zimbabwe               1\n",
       "\n",
       "[156 rows x 1 columns]"
      ]
     },
     "execution_count": 9,
     "metadata": {},
     "output_type": "execute_result"
    }
   ],
   "source": [
    "pd.crosstab(index=df['Country or region'], columns='count')"
   ]
  },
  {
   "cell_type": "markdown",
   "metadata": {},
   "source": [
    "The most common graph when graphing numerical data is the histogram. It looks like a bar chart but conveys very different information. The horizontal axis is numerical, but width is equal to the interval and height is equal to the frequency. "
   ]
  },
  {
   "cell_type": "code",
   "execution_count": 10,
   "metadata": {},
   "outputs": [
    {
     "data": {
      "image/png": "[encoded data removed]",
      "text/plain": [
       "<Figure size 432x288 with 1 Axes>"
      ]
     },
     "metadata": {
      "needs_background": "light"
     },
     "output_type": "display_data"
    }
   ],
   "source": [
    "plt.hist(df['Score'], bins = 10)\n",
    "plt.show()"
   ]
  },
  {
   "cell_type": "markdown",
   "metadata": {},
   "source": [
    "Numerical feature of two columns can be represented in a cross table or a scatterplot. All graphs are very easy to create and read, once you have identified the type of data you are dealing with. Scatterplots are used when representing numerical variables. "
   ]
  },
  {
   "cell_type": "code",
   "execution_count": 16,
   "metadata": {},
   "outputs": [
    {
     "data": {
      "text/plain": [
       "<matplotlib.collections.PathCollection at 0x7fa835eddee0>"
      ]
     },
     "execution_count": 16,
     "metadata": {},
     "output_type": "execute_result"
    },
    {
     "data": {
      "image/png": "[encoded data removed]",
      "text/plain": [
       "<Figure size 432x288 with 1 Axes>"
      ]
     },
     "metadata": {
      "needs_background": "light"
     },
     "output_type": "display_data"
    }
   ],
   "source": [
    "fig=plt.figure()\n",
    "ax=fig.add_axes([0,0,1,1])\n",
    "ax.scatter(df['Score'], df['GDP per capita'], color='r')"
   ]
  },
  {
   "cell_type": "markdown",
   "metadata": {},
   "source": [
    "The three measures of central tendency are mean, median, and mode. The first is the mean, or the simple average. It is denoted by $\\mu$ for a population and $\\bar{x}$ for a sample. It is highly affected by outliers."
   ]
  },
  {
   "cell_type": "code",
   "execution_count": 18,
   "metadata": {},
   "outputs": [
    {
     "data": {
      "text/plain": [
       "0.905147435897436"
      ]
     },
     "execution_count": 18,
     "metadata": {},
     "output_type": "execute_result"
    }
   ],
   "source": [
    "df['GDP per capita'].mean()"
   ]
  },
  {
   "cell_type": "markdown",
   "metadata": {},
   "source": [
    "The median is basically the middle number in an ordered dataset and isn't as skewed by outliers."
   ]
  },
  {
   "cell_type": "code",
   "execution_count": 19,
   "metadata": {},
   "outputs": [
    {
     "data": {
      "text/plain": [
       "0.96"
      ]
     },
     "execution_count": 19,
     "metadata": {},
     "output_type": "execute_result"
    }
   ],
   "source": [
    "df['GDP per capita'].median()"
   ]
  },
  {
   "cell_type": "code",
   "execution_count": 20,
   "metadata": {},
   "outputs": [
    {
     "data": {
      "text/plain": [
       "0    0.96\n",
       "dtype: float64"
      ]
     },
     "execution_count": 20,
     "metadata": {},
     "output_type": "execute_result"
    }
   ],
   "source": [
    "df['GDP per capita'].mode()"
   ]
  },
  {
   "cell_type": "markdown",
   "metadata": {},
   "source": [
    "The mode is the value that occurs most often, it can be used for both numerical and categorical data. If all values appear only once, then there is no mode. In general, you may have more than one modes. Which measure is best? They should all be used, there is no best but using only one is definitely the worst."
   ]
  },
  {
   "cell_type": "markdown",
   "metadata": {},
   "source": [
    "The most common tool of measuring asymmetry is skewness. "
   ]
  },
  {
   "cell_type": "code",
   "execution_count": 21,
   "metadata": {},
   "outputs": [
    {
     "data": {
      "image/png": "[encoded data removed]",
      "text/plain": [
       "<Figure size 432x288 with 1 Axes>"
      ]
     },
     "metadata": {
      "needs_background": "light"
     },
     "output_type": "display_data"
    }
   ],
   "source": [
    "plt.hist(df['GDP per capita'], bins = 10)\n",
    "plt.show()"
   ]
  },
  {
   "cell_type": "code",
   "execution_count": 22,
   "metadata": {},
   "outputs": [
    {
     "data": {
      "text/plain": [
       "-0.3852322563870423"
      ]
     },
     "execution_count": 22,
     "metadata": {},
     "output_type": "execute_result"
    }
   ],
   "source": [
    "df['GDP per capita'].skew()"
   ]
  },
  {
   "cell_type": "markdown",
   "metadata": {},
   "source": [
    "If our skew is negative, that means we have a left skew, and that our median is greater than our mean, as shown in the histogram above and in calculating our mean and median. this is because alot of our outliers are to the left."
   ]
  },
  {
   "cell_type": "markdown",
   "metadata": {},
   "source": [
    "Variance and standard deviation, and coefficient of variation are how we calculate variability. Variance measures the dispersion of a set of data points around their mean value. "
   ]
  },
  {
   "cell_type": "code",
   "execution_count": 23,
   "metadata": {},
   "outputs": [
    {
     "data": {
      "text/plain": [
       "0.15871416521918943"
      ]
     },
     "execution_count": 23,
     "metadata": {},
     "output_type": "execute_result"
    }
   ],
   "source": [
    "df['GDP per capita'].var()"
   ]
  },
  {
   "cell_type": "markdown",
   "metadata": {},
   "source": [
    "While variance is a good measure, if you take it's square root, you'll get the standard deviation. The standard deviation is a far more useful measure in real statistics. The coefficient of variation is the standard deviation over the mean. Standard deviation is the most common measure of variability for a single dataset. Standard deviation is the preferred measure because it is directly interpretable. The coefficient of variation is good for comparing variation across different variables. "
   ]
  },
  {
   "cell_type": "code",
   "execution_count": 25,
   "metadata": {},
   "outputs": [
    {
     "data": {
      "text/plain": [
       "0.39838946424220284"
      ]
     },
     "execution_count": 25,
     "metadata": {},
     "output_type": "execute_result"
    }
   ],
   "source": [
    "df['GDP per capita'].std()"
   ]
  },
  {
   "cell_type": "code",
   "execution_count": 26,
   "metadata": {},
   "outputs": [
    {
     "data": {
      "text/plain": [
       "0.4401376487877994"
      ]
     },
     "execution_count": 26,
     "metadata": {},
     "output_type": "execute_result"
    }
   ],
   "source": [
    "df['GDP per capita'].std() / df['GDP per capita'].mean()"
   ]
  },
  {
   "cell_type": "markdown",
   "metadata": {},
   "source": [
    "Measure of relationship between variables are covariance and linear correlation coefficient. We can see below Score and GDP per Capita are correlated. Covariance may be positive, equal to 0, or negative. Covariance gives us a sense of direction. If covariance is greater than 0, the two variables move together. If the two variables move in opposite direction, the covariance will be negative. If it is 0, then they are independent."
   ]
  },
  {
   "cell_type": "code",
   "execution_count": 16,
   "metadata": {},
   "outputs": [
    {
     "data": {
      "text/plain": [
       "<matplotlib.collections.PathCollection at 0x7fa835eddee0>"
      ]
     },
     "execution_count": 16,
     "metadata": {},
     "output_type": "execute_result"
    },
    {
     "data": {
      "image/png": "[encoded data removed]",
      "text/plain": [
       "<Figure size 432x288 with 1 Axes>"
      ]
     },
     "metadata": {
      "needs_background": "light"
     },
     "output_type": "display_data"
    }
   ],
   "source": [
    "fig=plt.figure()\n",
    "ax=fig.add_axes([0,0,1,1])\n",
    "ax.scatter(df['Score'], df['GDP per capita'], color='r')"
   ]
  },
  {
   "cell_type": "code",
   "execution_count": 27,
   "metadata": {},
   "outputs": [
    {
     "data": {
      "text/plain": [
       "array([[1.23903584, 0.35205151],\n",
       "       [0.35205151, 0.15871417]])"
      ]
     },
     "execution_count": 27,
     "metadata": {},
     "output_type": "execute_result"
    }
   ],
   "source": [
    "import numpy as np\n",
    "np.cov(df['Score'],df['GDP per capita'])"
   ]
  },
  {
   "cell_type": "markdown",
   "metadata": {},
   "source": [
    "Correlation adjusts covariance, so that the relationship between the two variables can be more interpretable. -1 <= correlation coefficient <= 1. The correlation coefficient being equal to 1 means perfection postive correlation, and the entire vriability of one variables is explained by other. A correlation of 0 means they are abslutely independent. Negative correlation means when one rises, the other falls. The formula is completely symmetrical. Correlation does not imply causation."
   ]
  },
  {
   "cell_type": "code",
   "execution_count": 29,
   "metadata": {},
   "outputs": [
    {
     "data": {
      "text/plain": [
       "0.7938828678781278"
      ]
     },
     "execution_count": 29,
     "metadata": {},
     "output_type": "execute_result"
    }
   ],
   "source": [
    "df['Score'].corr( df['GDP per capita'])"
   ]
  },
  {
   "cell_type": "markdown",
   "metadata": {},
   "source": [
    "### Section 16\n",
    "It's time for the practical example. In this lesson, we will be studying the database of a real estate company operating in California. The company is launching a marketing campaign. We are the data analysts and identify which group of people will be more likely to buy our product. We have two tables, Product information and Customer information. Customer information is only available for some products. One row contains a customer name, customer age, apartment id, building name, price they paid for apartment, square foot, year of purchase, customer location, mortage and where they found the product(such as website). ID variables are like names, so they are categorical. A simply way to check if a variable is categorical or numerical is to check its mean.Id is qualitative and nominal. Age is quantitative ratio. A way to quantify if a variable is a ratio is to ask if it has a true zero. Age is a continuous variable. Age interval is ordinal because it represents different categories people fall in. Price is always numerical, can be discrete or continuous. Gender is a categorical, nominal variable. Location is a categorical variable. \n",
    "\n",
    "We must identify the groups of people that are most likely to buy our product. Gender is categorical. Most of our customers are male. When we analyze age, we see most of our data falls between 25 and 65 years. Since our dataset is only a sample of customers who will ever buy our products, we use sample formulas. Let's see if age and price have a relationship. When we calculate the covariance we get a huge number, our correlation coefficient is -0.17. A common practice is to disregard correlations which are less than abs(0.2). We tell the marketing team they should target males. 68% of sales come from California. 71% of sales were made with customers aged between 26 and 55 years old, and the age variable was right skewed meaning younger people buy more property than older people. There is no relationship between the age of a given customer and price.  "
   ]
  },
  {
   "cell_type": "markdown",
   "metadata": {},
   "source": [
    "### Section 17\n",
    "Inferential statistics rely on probability theory and distributions to make predtictions. A distribution is a function that shows the possible values for a variable and how often they occur. The probability of getting one on a six-sided die is one. The distribution of an event is made up of all possible values. If you can sum of all the probabilities and get 0, you have most likely exhuasted all possible values. "
   ]
  },
  {
   "cell_type": "markdown",
   "metadata": {},
   "source": [
    "The normal distribution approximates a white variety of random variables. Distributions of sample means with large enough sample sizes could be approximated to normal. Normal = Gaussian distribution. It has no skew. $N ~ (\\mu, \\sigma^2)$. The size of the graph is deteremined by the standard deviation. "
   ]
  },
  {
   "cell_type": "code",
   "execution_count": 36,
   "metadata": {},
   "outputs": [
    {
     "data": {
      "image/png": "[encoded data removed]",
      "text/plain": [
       "<Figure size 432x288 with 1 Axes>"
      ]
     },
     "metadata": {
      "needs_background": "light"
     },
     "output_type": "display_data"
    }
   ],
   "source": [
    "plt.hist(df['Score'], bins = 10)\n",
    "plt.show()"
   ]
  },
  {
   "cell_type": "markdown",
   "metadata": {},
   "source": [
    "Every distribution can be standardized. You convert the mean to 0, and the standard deviation to one. $Z ~ N(0,1)$. "
   ]
  },
  {
   "cell_type": "code",
   "execution_count": 39,
   "metadata": {},
   "outputs": [
    {
     "name": "stdout",
     "output_type": "stream",
     "text": [
      "[[ 0.         -1.22474487  1.33630621]\n",
      " [ 1.22474487  0.         -0.26726124]\n",
      " [-1.22474487  1.22474487 -1.06904497]]\n",
      "4.9343245538895844e-17\n",
      "1.0\n"
     ]
    }
   ],
   "source": [
    "from sklearn import preprocessing\n",
    "import numpy as np\n",
    "X_train = np.array([[ 1., -1.,  2.],\n",
    "                   [ 2.,  0.,  0.],\n",
    "                   [ 0.,  1., -1.]])\n",
    "X_scaled = preprocessing.scale(X_train)\n",
    "\n",
    "print(X_scaled)\n",
    "\n",
    "print(X_scaled.mean())\n",
    "\n",
    "print(X_scaled.std())"
   ]
  },
  {
   "cell_type": "markdown",
   "metadata": {},
   "source": [
    "Say I take multiple samples from a population and continue getting different means. We can draw many, many samples and get the mean. We would end up with a sampling distribution of the mean. If we take the mean of the sample means, we will get a good approximation of the population mean. The Central Limit theorem states the sampling distribution of the mean will approximate a normal distribution. The bigger the sample size, the greater the accuracy (around 30 observations). The CLM is important because it allows us to perfrom tests, solve problems and make inferences using the normal distribution even when the population is not normally distributed."
   ]
  },
  {
   "cell_type": "markdown",
   "metadata": {},
   "source": [
    "A standard error is the standard deviation of the distribution formed byt the sample means. It shows variability, it shows variability of the sample means. It is important because it is used for almost all statistical tests. It decreases as the sample size increases. "
   ]
  },
  {
   "cell_type": "markdown",
   "metadata": {},
   "source": [
    "An estimator is an approximation based soleley on sample information, a specific value is an estimate. There are two estimate a point estimate and a confidence interval. The point estimate is located in the middle of the confidnce interval. The sample mean is an estimate of the population mean. Estimators are like judges, we want the most efficient and unbiased. The most efficient estimators are the ones with the least variability of outcome that is unbiased. The word statistics is a broader terem, an estimator is a type of statistics."
   ]
  },
  {
   "cell_type": "markdown",
   "metadata": {},
   "source": [
    "### Section 18"
   ]
  },
  {
   "cell_type": "markdown",
   "metadata": {},
   "source": [
    "Point estimates are not very helpful or accurate. A confidence interval can never be 100 percent accurate. The confidence level is denoted as 1 - $\\alpha$. If we want to be 95 percent confident, we set $\\alpha$ to 5."
   ]
  },
  {
   "cell_type": "markdown",
   "metadata": {},
   "source": [
    "The confidence interval is the range within you expect a population parameter to be. The confidence intervals for a population mean with a KNOWN variance: \n",
    "With a large enough sample you can assume normality of sample means. To calculate the confidence interval we require the $Z$ distribution. A 95% confidnece interval means you are 95% sure that a population parameter will fall somewhere in the confidence interval. The standard normal distribution where our $Z$ socore is our critical value. A narrower confidence interval may have a smaller confidence level, a broader confidence interval may have a higher confidence. "
   ]
  },
  {
   "cell_type": "markdown",
   "metadata": {},
   "source": [
    "Confidence interval clarifications:\n",
    "Using the Z score we are implicitly starting from the standard normal distribution. 95 percent confidence we are between 18 and 70 years old if we are taking this Udemy course. 95 is the accepted norm. "
   ]
  },
  {
   "cell_type": "markdown",
   "metadata": {},
   "source": [
    "The student's t distribution can be used for unknown population variance and allows us to make inferences on more data sets. The student's t distribution is an approximation of the normal distribution. When population variance is unknown, we use the t statistic to calculate the confidence interval. To get our t statistic, we are required to use the t table. Our degrees of freedom is the number of observations we have. "
   ]
  },
  {
   "cell_type": "markdown",
   "metadata": {},
   "source": [
    "Confidence intervals can be calculated by sample mean plus and minus the margin of error.Higher sample sizes will decrease the margin of error.You can calculate confidence intervals for 2 populations. Samples from 2 populations can be dependent or independent. In samples of weight loss and blood samples for instance these are dependent, in before and after situations. When we have independent samples, we can break them down into three cases when the population variance is known, when they are unknwon but assumed to be equal, and when they are unknown but assumed to be different. \n",
    "\n",
    "You are testing people for magnesium levels and take a before and after sample. These are dependent varaiables because tehay are of the same person over time. "
   ]
  },
  {
   "cell_type": "markdown",
   "metadata": {},
   "source": [
    "When we want to find the confidence interval for two sample means\n",
    "$$(\\bar{x} - \\bar{y} \\pm t_{v, \\alpha / 2} \\sqrt{\\frac{s_x^2}{n_x} + \\frac{x_y^2}{n_y}}$$\n",
    "The tough thing here is to estimate the degrees of freedom, the formula for which is not expected to be memorized."
   ]
  },
  {
   "cell_type": "markdown",
   "metadata": {},
   "source": [
    "### Section 19\n",
    "You are a data analyst for Al Bundy's shoe shop. The firm sells mid to high end shoes ranging from 120 to 200 dollars. You have a lot of inventory that never sells.One way to solve this problem is to use confidence intervals. We have data on invoice no, date, country, product id, gender, shoe size, unit price, discount and sale price. Men and women shoes are different so should not be bundled together. Segment the data by shoe size, country, and gender. We can assume normality due to the Central Limit Theorem. If we wanted to estimate the number of share that are likely to be sold we can find the 95 percecnt confidence interval. We have 12 observations and we do not know the population variance, therefore we are using the t distribution. When calculatrion how much one shop outperform the other in terms of sales, we would use the formula for confidence intervals of independent samples where the population vaariance is unknown but assumed to be equal. "
   ]
  },
  {
   "cell_type": "markdown",
   "metadata": {},
   "source": [
    "### Section 20"
   ]
  },
  {
   "cell_type": "markdown",
   "metadata": {},
   "source": [
    "We will learn how to perform one of the fundamental steps in statistics: hypothesis testing. There are four steps in data-driven decision making. Formulate a hypotheis, find the right test, execture the test, and then make a decision based on the result. A hypothesis is an idea that can be tested. A hypothesis cannot be tested with no data. The null hypothesis is denoted as $H_0$ and the alternative hypothesis is $H_A$. The concept of nulll hypothesis is similar to \"innocent until proven guilty\". Outcomes of tests refer to population parameter rather than a sample statistic. Think of the null hypothesis as the status quo and the alternative is a challenge to the status quo. \n",
    "\n",
    "A significance level is denoted by $\\alpha$ or the probability of rejecting the null hypothesis if it is true. You can expectre more random behavior in human or company behavior. Imagine you are consulting a school, and the dean tells you he believes on average students have a 70 percent average in grades. The null hypothesis is that the average grade of students is 70, while the null hypothesis is that it is not equal to 70. \n",
    "\n",
    "We can have two types of errors in hypothesis testing, type 1 error, a false positive and type 2 error, a false negative. The power of the test is 1 minus type II error. "
   ]
  },
  {
   "cell_type": "markdown",
   "metadata": {},
   "source": [
    "Now we can try some tests. Let's start with a ttest. Here we are testing whether the Happiness score is equal to 10. "
   ]
  },
  {
   "cell_type": "code",
   "execution_count": 42,
   "metadata": {},
   "outputs": [
    {
     "name": "stdout",
     "output_type": "stream",
     "text": [
      "5.407096153846154\n",
      " we are rejecting null hypothesis\n"
     ]
    }
   ],
   "source": [
    "from scipy.stats import ttest_1samp\n",
    "import numpy as np\n",
    "\n",
    "\n",
    "score_mean = np.mean(df['Score'])\n",
    "print(score_mean)\n",
    "\n",
    "tset, pval = ttest_1samp(df['Score'], 10)\n",
    "\n",
    "if pval < 0.05:    # alpha value is 0.05 or 5%\n",
    "   print(\" we are rejecting null hypothesis\")\n",
    "else:\n",
    "  print(\"we are accepting null hypothesis\")"
   ]
  },
  {
   "cell_type": "markdown",
   "metadata": {},
   "source": [
    "The p-value is the most common way to test hypotheses. After choosing a signficance level of alpha, you should compare your p-value to the $\\alpha$. Most statistical software calculates p-values for each test. Researcher decides signifcance post-factum. If the p-value is lower than the level of significane you reject the null hypothesis. "
   ]
  },
  {
   "cell_type": "markdown",
   "metadata": {},
   "source": [
    "We will now conduct a one sample Z test, checking to see for mean generosity."
   ]
  },
  {
   "cell_type": "code",
   "execution_count": 45,
   "metadata": {},
   "outputs": [
    {
     "name": "stdout",
     "output_type": "stream",
     "text": [
      "0.04692134457369626\n",
      "reject null hypothesis\n"
     ]
    }
   ],
   "source": [
    "from scipy import stats\n",
    "from statsmodels.stats import weightstats as stests\n",
    "\n",
    "ztest ,pval = stests.ztest(df['Generosity'], x2=None, value=.2)\n",
    "\n",
    "print(float(pval))\n",
    "if pval<0.05:\n",
    "    print(\"reject null hypothesis\")\n",
    "else:\n",
    "    print(\"accept null hypothesis\")"
   ]
  },
  {
   "cell_type": "markdown",
   "metadata": {},
   "source": [
    "We can now conduct a two sample t test of two independent groups. In two sample t-test here we are checking two independent data groups and deciding whether sample mean of two group is equal or not."
   ]
  },
  {
   "cell_type": "code",
   "execution_count": 48,
   "metadata": {},
   "outputs": [
    {
     "name": "stdout",
     "output_type": "stream",
     "text": [
      "2.181657129902636e-05\n",
      "reject null hypothesis\n"
     ]
    }
   ],
   "source": [
    "# apple pricess in NY and LA\n",
    "LA = [3.9, 3.76, 3.87, 3.99, 4.02, 4.25, 4.13, 3.98, 3.99]\n",
    "NY = [3.02, 3.22, 3.24, 3.02, 3.06, 3.15, 3.81, 3.44, 3.15]\n",
    "\n",
    "ttest,pval = stats.ttest_rel(LA, NY)\n",
    "print(pval)\n",
    "if pval<0.05:\n",
    "    print(\"reject null hypothesis\")\n",
    "else:\n",
    "    print(\"accept null hypothesis\")"
   ]
  },
  {
   "cell_type": "code",
   "execution_count": null,
   "metadata": {},
   "outputs": [],
   "source": []
  }
 ],
 "metadata": {
  "kernelspec": {
   "display_name": "Python 3",
   "language": "python",
   "name": "python3"
  },
  "language_info": {
   "codemirror_mode": {
    "name": "ipython",
    "version": 3
   },
   "file_extension": ".py",
   "mimetype": "text/x-python",
   "name": "python",
   "nbconvert_exporter": "python",
   "pygments_lexer": "ipython3",
   "version": "3.6.7"
  }
 },
 "nbformat": 4,
 "nbformat_minor": 4
}
