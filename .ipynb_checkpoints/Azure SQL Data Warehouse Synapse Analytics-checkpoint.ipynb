{
 "cells": [
  {
   "cell_type": "markdown",
   "metadata": {},
   "source": [
    "## Azure SQL Data Warehouse Synapse Analytics\n",
    "### Why warehouse in cloud?\n",
    "In the cloud, you don't need to do large capital expenses to get started. On premises, you would need a lot of money to set up servers. In the cloud, there is no hardware maintenance so it's much easier to work with. On premises it is difficult to scale, but this is not the case on the cloud. In Azure scale up and down can happen in minutes. Storage and compute are billed separately and only when in use. Also, cloud dw allows for integration with other service. Massive Parallel Processing greatly speeds up the processing time. Time to market/value is also an important factor when thinking of why keep your warehouse in the cloud. \n",
    "\n",
    "\n",
    "### Traditional vs Modern DW Architecture\n",
    "In an old data warehouse, you had all of these different sources of data. You would create a custom ETL and keep your data in a data warehouse. You could do some analytics in Python or R and then visualize in Tableau or PowerBI. Now, modern data warehousing has become more complex. Firstly, you have data coming in from a variety of services, this all gets ingested into Azure Data Factory. For storage, Azure Data Lake Storage is an option and is cost-effective. This data can be explored in SQL Data Warehouse, prep and training can happen in Azure Databricks, modeling and serving can happen within Azure SQL Data Warehouse. After Azure SQL Data Warehouse, the data can be ingested into more advanced or real time analytics. Compute and Storage are separate, and they can only be charged when they are in use. For storage, you only pay for the amount of storage. DWU = CPU + Memory + IO, this is a Data Warehousing Unit. You get billed data warehousing unit per hour. When not in use, compute can be paused for maximum savings. So for instance if you DW gets no use during the weekends, you can pause it completely. You will still be charged for storage but not compute. If you are not creating the data, you can pay for storage just not compute. Storage is very cheap in Azure. You have the flexibility to pull all the data because compute can be stopped and storage is cheap. This architecture is a very common way to achieve a modern data warehousing solution. \n",
    "\n",
    "This is how Azure services come together for this process: First is Azure Data Factory, a serverless integration product. It enables data integration in a hybrid scenario, it can bring in data from any type of source. This can handle a massive scale of data, in velocity and volume. It has a lot of components, it will add not just ingestion point but complete data flow. It can orchestrate the entire data cycle. You can bring that data into you Azure Data Lake Stor, where you do the data preparation and cleaning. It is the cheapest for storage. Once that data is in the data lake, Azure SQL Data Warehouse allows you to query the data that is in the data lake or in the warehouse itself. Azure Databricks allows us to explore the data, you can use many languages such as Python, R, Scala, or SQL. Azure SQL Data Warehouse is also where the data then is finally stored for consumer to access for Power BI. \n",
    "\n",
    "### Azure SQL Data Warehouse\n",
    "Azure Synapse is the next generation of Azure SQL Data Warehouse, blending big data analytics, data warehousing, and data integration into a single unified service that provideds end-to-end analytics with limitless scale.It is a first service of its kind to bring multiple technologies together to reduce time to market and increase development efficiencies. In synapse service, end to end can be completed in one user interface. you no longer have to switch between multiple tools. It helps to bring together multiple members to one team. It builds on Azure Data Lake Storage, and it can run SQL and Spark as analytics runtime, and then can be output to PowerBI. Synapse studio allows for integration, management, monitoring, and secutiry of data. \n",
    "\n",
    "### Azure Synapse Benefits\n",
    "Azure synapse services provides limiteless scale. Azure Synapse has deeply integrated with PowerBI and Azure ML to greatly expand sicvoery of insights and apply machine learning models to all your intelligent apps. You can build PowerBi dashboards within Azure Synapse. Azure Synapse has always on data encryption which is very secure for your apps. It also has code free data orchestration, you can create ETL pipelines with no code needed, but also can use Scala, R, and Python.\n",
    "\n",
    "### Modern vs Synapse DW Architecture\n",
    "The modern data warehouse described above uses technologies such as Azure Data Factory and Azure Data Lake, but Synapse takes it a step further. Azure Synapse Analytics provides a unified srvice that provides full integrated capabilities. Azure synapse is a secure self service enterprise providing artificial intelligence and Big Data Processing efficient Compute On Demand query processing monitoring management integrated security all through one unified service. All the applications and things you use inside your environment now integrate with Synapse ecosystem. \n",
    "\n",
    "### Demo - Provision, Scale, Pause, Firewall setting\n",
    "In Microsoft Azure Portal, you can create a new resource and select Azure Synapse Analytics. Azure Databse Server should not be confused with Microsoft SQL Server, but this is just a logical server used to managea group of databases. You can create a new server along with admin credentials. We can choose a performance level, You can increase the scale of the system and it will cost more. Once you configure your server, you can deploy and you will be in your new Azure Synapse Analytics instance. You can accesss your server and databse in Microsoft SQL Server Management Studio. Azure Synapse Studio delivers the ability to ingest explore analyze and visualize data through a single pane of glass to support business intelligence machine learning and data science workloads in the cloud. Microsoft has provided us with the ability to explore storage accounts data lakes and databases all within the same interface. You now have the similar capability in your standup studio to query files that resides in storage accounts and data lake. Microsoft brings together the ability to run both SQL and spark providing a single pane of glass to help bridge the gap between data engineers and data scientist. PowerBI has been exposes and integrated into synapse studio, and can be edited within synapse studio. At this point in the course, the creator showed a video of Azure Synapse Studio, which looks great but is not yet available :(\n",
    "\n",
    "Using Synapse analytics, Data scientist can create POCs in minutes. They have a wide variety of languages to choose from. Database administrators can run as many workloads as needed, and different workload scales can be configured differently based on data needs. It provides one unified experience and cuts down dependencies on different teams. "
   ]
  },
  {
   "cell_type": "code",
   "execution_count": null,
   "metadata": {},
   "outputs": [],
   "source": []
  }
 ],
 "metadata": {
  "kernelspec": {
   "display_name": "Python 3",
   "language": "python",
   "name": "python3"
  },
  "language_info": {
   "codemirror_mode": {
    "name": "ipython",
    "version": 3
   },
   "file_extension": ".py",
   "mimetype": "text/x-python",
   "name": "python",
   "nbconvert_exporter": "python",
   "pygments_lexer": "ipython3",
   "version": "3.8.3"
  }
 },
 "nbformat": 4,
 "nbformat_minor": 4
}
